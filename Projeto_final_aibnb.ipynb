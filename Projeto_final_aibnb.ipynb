{
  "nbformat": 4,
  "nbformat_minor": 0,
  "metadata": {
    "colab": {
      "provenance": [],
      "include_colab_link": true
    },
    "kernelspec": {
      "name": "python3",
      "display_name": "Python 3"
    },
    "language_info": {
      "name": "python"
    }
  },
  "cells": [
    {
      "cell_type": "markdown",
      "metadata": {
        "id": "view-in-github",
        "colab_type": "text"
      },
      "source": [
        "<a href=\"https://colab.research.google.com/github/Erike-Simon/Airbnb-Project/blob/main/Projeto_final_aibnb.ipynb\" target=\"_parent\"><img src=\"https://colab.research.google.com/assets/colab-badge.svg\" alt=\"Open In Colab\"/></a>"
      ]
    },
    {
      "cell_type": "markdown",
      "source": [
        "**SISTEMA DE LOCALIZAÇÃO DE HOSPEDAGENS PRÓXIMAS A PONTOS TURÍSTICOS NA CIDADE DO RECIFE**\n",
        "\n",
        "---\n",
        "\n",
        "Projeto final da disciplina Análise e Visualização de Dados do CESAR School Recife.\n",
        "\n",
        "**Alunos:** *Erike Simon e Jadeilson Santos*\n",
        "\n",
        "O presente projeto visa explorar e desenvolver um dashboard no streamlit através de um dataset airbnb fornecido na disciplina de Análise e Visualização de Dados. Além deste, outros datasets tbm serão utilizados para localizações de pontos turísticos na cidade do Recife (teatros, museus e mercados). Estes últimos foram encontrados no [portal de dados](http://dados.recife.pe.gov.br/pt_BR/) da prefeitura do Recife.\n",
        "\n",
        "\n"
      ],
      "metadata": {
        "id": "4GY8U9kdAfWo"
      }
    },
    {
      "cell_type": "markdown",
      "source": [
        "**Descrever projeto e dataset**\n",
        "\n"
      ],
      "metadata": {
        "id": "VFXbz_J4fDri"
      }
    },
    {
      "cell_type": "markdown",
      "source": [
        "# Configurações iniciais"
      ],
      "metadata": {
        "id": "fypKl6kVS8bG"
      }
    },
    {
      "cell_type": "code",
      "execution_count": null,
      "metadata": {
        "id": "SVDoL83tAY_g"
      },
      "outputs": [],
      "source": [
        "# import das bibliotecas\n",
        "import numpy as np\n",
        "import pandas as pd\n",
        "import re\n",
        "import warnings\n",
        "import plotly.express as px\n",
        "import plotly.graph_objects as go\n",
        "from IPython.display import display\n",
        "from glob import glob\n",
        "import seaborn as sns\n",
        "import matplotlib.pyplot as plt\n",
        "from google.colab import drive\n",
        "# from ydata_profiling import ProfileReport"
      ]
    },
    {
      "cell_type": "code",
      "source": [
        "# Ignorar os avisos do tipo SettingWithCopyWarning\n",
        "warnings.filterwarnings('ignore')"
      ],
      "metadata": {
        "id": "EHMu0Hvi4xIX"
      },
      "execution_count": null,
      "outputs": []
    },
    {
      "cell_type": "code",
      "source": [
        "drive.mount('/content/gdrive')"
      ],
      "metadata": {
        "id": "4VS75GwOTBzK"
      },
      "execution_count": null,
      "outputs": []
    },
    {
      "cell_type": "code",
      "source": [
        "df = pd.read_csv('/content/gdrive/MyDrive/Colab Notebooks/datasets/dataset_airbnb-scraper_rec.csv')\n",
        "df_mercado = pd.read_csv('/content/gdrive/MyDrive/Colab Notebooks/datasets/mercados.csv')\n",
        "df_museu = pd.read_csv('/content/gdrive/MyDrive/Colab Notebooks/datasets/museu-1.csv', sep=';')\n",
        "df_teatro = pd.read_csv('/content/gdrive/MyDrive/Colab Notebooks/datasets/teatros.csv')"
      ],
      "metadata": {
        "id": "EFqW_QvwTJDb"
      },
      "execution_count": null,
      "outputs": []
    },
    {
      "cell_type": "code",
      "source": [
        "# dataset contendo apenas as colunas que serão utilizadas\n",
        "df1 = df[['address','location/lat','location/lng','name','numberOfGuests','pricing/nights','pricing/rate/amount','pricing/rate/amountFormatted',\n",
        "          'pricing/rateType', 'pricing/totalPrice/accommodation','pricing/totalPrice/amount','pricing/totalPrice/amountFormatted','pricing/totalPrice/cleaningFee',\n",
        "          'pricing/totalPrice/currency','pricing/totalPrice/guestFee','primaryHost/badges/0','primaryHost/badges/1','roomType','stars']]"
      ],
      "metadata": {
        "id": "R7UdD83tTNP0"
      },
      "execution_count": null,
      "outputs": []
    },
    {
      "cell_type": "code",
      "source": [
        "df1.drop_duplicates()"
      ],
      "metadata": {
        "id": "ry6ZdgExTNOb"
      },
      "execution_count": null,
      "outputs": []
    },
    {
      "cell_type": "code",
      "source": [
        "df1.isnull().sum()"
      ],
      "metadata": {
        "id": "Q3FQjr4ZY9Cm",
        "colab": {
          "base_uri": "https://localhost:8080/"
        },
        "outputId": "8dbd255c-5f8f-4c11-8694-16cab35b9edc"
      },
      "execution_count": null,
      "outputs": [
        {
          "output_type": "execute_result",
          "data": {
            "text/plain": [
              "address                                 0\n",
              "location/lat                            0\n",
              "location/lng                            0\n",
              "name                                    0\n",
              "numberOfGuests                          0\n",
              "pricing/nights                          0\n",
              "pricing/rate/amount                     0\n",
              "pricing/rate/amountFormatted            0\n",
              "pricing/rateType                        0\n",
              "pricing/totalPrice/accommodation        0\n",
              "pricing/totalPrice/amount               0\n",
              "pricing/totalPrice/amountFormatted      0\n",
              "pricing/totalPrice/cleaningFee        177\n",
              "pricing/totalPrice/currency             0\n",
              "pricing/totalPrice/guestFee            60\n",
              "primaryHost/badges/0                    7\n",
              "primaryHost/badges/1                   48\n",
              "roomType                                0\n",
              "stars                                 125\n",
              "dtype: int64"
            ]
          },
          "metadata": {},
          "execution_count": 9
        }
      ]
    },
    {
      "cell_type": "markdown",
      "source": [
        "## Funções\n",
        "\n",
        "\n"
      ],
      "metadata": {
        "id": "2kkVouZfJiMC"
      }
    },
    {
      "cell_type": "code",
      "source": [
        "pd.set_option('display.max_rows', None) #para mostras todas as linhas nas operações nas colunas"
      ],
      "metadata": {
        "id": "I56wEvBMZE_d"
      },
      "execution_count": null,
      "outputs": []
    },
    {
      "cell_type": "markdown",
      "source": [
        "Função para padronização dos endereços"
      ],
      "metadata": {
        "id": "HkDA8qMF2iLz"
      }
    },
    {
      "cell_type": "code",
      "source": [
        "def stand_address(local):\n",
        "    local = local.lower()  # Converter para minúsculas\n",
        "    local = re.sub(r'[^\\w\\s]', ' ', local)  # Remover pontuações\n",
        "    local = re.sub(r'\\s+', ' ', local)  # Remover espaços em branco extras\n",
        "\n",
        "    # Dicionário de palavras-chave e valores de padronização\n",
        "    chave_map = {\n",
        "        'porto de galinhas': 'Porto de Galinhas', 'muro alto': 'Muro Alto', 'enseada dos corais': 'Enseada dos Corais', 'recife': 'Recife', 'boa viagem': 'Boa Viagem', 'sao jose': 'São José',\n",
        "        'boa vista': 'Boa Vista', 'madalena': 'Madalena', 'encruzilhada': 'Encruzilhada', 'casa amarela': 'Casa Amarela', 'cordeiro': 'Cordeiro', 'casa forte': 'Casa Forte', 'pina': 'Pina',\n",
        "        'parnamirim': 'Parnamirim', 'santo antônio': 'Santo Antônio', 'várzea': 'Várzea', 'apipucos': 'Apipucos', 'graças': 'Graças',  'cabo de santo agostinho' : 'Cabo de Santo Agostinho',\n",
        "        'soledade': 'Soledade', 'santo amaro': 'Santo Amaro', 'ipojuca' : 'Ipojuca', 'olinda' : 'Olinda', 'piedade' : 'Piedade', 'carmo' : 'Carmo', 'aldeia dos camarás' : 'Aldeia dos Camarás',\n",
        "        'paiva' : 'Paiva', 'candeias' : 'Candeias', 'barra de jangada' : 'Barra de Jangada', 'brasília teimosa' : 'Brasília Teimosa', 'centro' : 'Centro',  'torre' : 'Torre', 'paulista' : 'Paulista',\n",
        "        'santana' : 'Santana', 'sítio novo' : 'Sítio Novo', 'rio doce' : 'Rio Doce', 'derby' : 'Derby', 'casa caiada' : 'Casa Caiada', 'engenho do meio' : 'Engenho do Meio', 'piedade' : 'Piedade',\n",
        "        'jaboatão dos guararapes' : 'Jaboatão dos Guararapes', 'espinheiro' : 'Espinheiro', 'rosarinho' : 'Rosarinho', 'curado' : 'Curado', 'água fria' : 'Água Fria', 'estância' : 'Estância',\n",
        "        'tamarineira' : 'Tamarineira', 'jardim atlântico' : 'Jardim Atrântico', 'bonsucesso' : 'Bonsucesso', 'aflitos' : 'Aflitos', 'ipsep' : 'Ipsep', 'mangueira' : 'Mangueira', 'ibura' : 'Ibura',\n",
        "        'ipojuga' : 'Ipojuca', 'dois irmãos' : 'Dois Irmãos', 'ilha do retiro' : 'Ilha do Retiro', 'loteamento merepe' : 'Loteamento Merepe', 'varadouro' : 'Varadouro', 'iputinga' : 'Iputinga',\n",
        "        'dois carneiros' : 'Dois Carneiros', 'bairro novo' : 'Bairro Novo', 'socorro' : 'Socorro', 'bultrins' : 'Bultrins', 'ouro preto' : 'Ouro Preto', 'zumbi' : 'Zumbi', 'camaragibe' : 'Camaragibe',\n",
        "        'loteamento mata da camboa' : 'Loteamento Mata da Camboa','campo grande' : 'Campo Grande'\n",
        "    }\n",
        "\n",
        "    # Verificar cada palavra-chave no endereço e retornar o valor correspondente\n",
        "    for chave, valor in chave_map.items():\n",
        "        if chave in local:\n",
        "            return valor\n",
        "\n",
        "    # Caso não corresponda a uma palavra-chave, retorne o local original\n",
        "    return local"
      ],
      "metadata": {
        "id": "SRTRSPX_m0Va"
      },
      "execution_count": null,
      "outputs": []
    },
    {
      "cell_type": "code",
      "source": [
        "# Criação das colunas com endereços padronizados\n",
        "df1['stand address'] = df1['address'].apply(stand_address)\n",
        "df_mercado['stand address'] = df_mercado['bairro'].apply(stand_address)\n",
        "df_museu['stand address'] = df_museu['bairro'].apply(stand_address)\n",
        "df_teatro['stand address'] = df_teatro['bairro'].apply(stand_address)"
      ],
      "metadata": {
        "id": "uGH-tQFSwM4M"
      },
      "execution_count": null,
      "outputs": []
    },
    {
      "cell_type": "markdown",
      "source": [
        "## Ajustes e criação de novas colunas"
      ],
      "metadata": {
        "id": "Bg1lmy_KzLbF"
      }
    },
    {
      "cell_type": "markdown",
      "source": [
        "Filtrando os bairros do Recife e criando um novo dataset"
      ],
      "metadata": {
        "id": "4qHSho_OCTWJ"
      }
    },
    {
      "cell_type": "code",
      "source": [
        "# Para filtrar os bairros do Recife\n",
        "bairros_rec = ['Boa Viagem', 'Água Fria', 'Recife', 'Rosarinho', 'Espinheiro', 'Iputinga', 'Santana', 'Zumbi',\n",
        "               'Brasília Teimosa', 'Boa Vista', 'Pina', 'Parnamirim', 'Madalena', 'Santo Amaro', 'Campo Grande',\n",
        "               'Centro', 'Derby', 'Cordeiro', 'Graças', 'Casa Forte', 'Casa Amarela', 'Ilha do Retiro', 'Curado',\n",
        "               'Várzea', 'Estância', 'Tamarineira', 'Apipucos', 'Torre', 'Ipsep', 'Aflitos', 'Mangueira', 'Ibura',\n",
        "               'Dois Irmãos', 'Soledade', 'Encruzilhada', 'Engenho do Meio']"
      ],
      "metadata": {
        "id": "LtNIqiD__Vb_"
      },
      "execution_count": null,
      "outputs": []
    },
    {
      "cell_type": "code",
      "source": [
        "# Novo DF contendo apenas os bairros do Recife\n",
        "df_rec = df1[df1['stand address'].isin(bairros_rec)]"
      ],
      "metadata": {
        "id": "Cigd2qW5Cbnb"
      },
      "execution_count": null,
      "outputs": []
    },
    {
      "cell_type": "markdown",
      "source": [
        "Criação de uma nova coluna com classificação de praia"
      ],
      "metadata": {
        "id": "lsu8X6n-6MCx"
      }
    },
    {
      "cell_type": "code",
      "source": [
        "# Criando uma nova coluna e atribuindo valor default\n",
        "df_rec['praia'] = 0\n",
        "\n",
        "# localiza as linhas que possuem os valores desejados na coluna 'stand address' e pela coluna 'praia' e atribui na coluna 'praia' o valor 1 para estas linhas\n",
        "df_rec.loc[df_rec['stand address'].isin(['Boa Viagem', 'Pina', 'Brasília Teimosa']), 'praia'] = 1"
      ],
      "metadata": {
        "id": "RDP75O_1-rI7"
      },
      "execution_count": null,
      "outputs": []
    },
    {
      "cell_type": "markdown",
      "source": [
        "Crianção de colunas para preços totais por noite e preços totais por hóspedes para cada noite"
      ],
      "metadata": {
        "id": "KGlibVjYjeF9"
      }
    },
    {
      "cell_type": "code",
      "source": [
        "# Criando duas novas colunas, uma com o preço médio por hóspede 'price per guest' e outra com o preço médio por noite 'price per night'\n",
        "df_rec['price per guest'] = round((df_rec['pricing/totalPrice/amount'] / 3) / df_rec['numberOfGuests'], 3)\n",
        "df_rec['price per night'] = round(df_rec['pricing/totalPrice/amount'] / 3, 3)"
      ],
      "metadata": {
        "id": "OSB-TevdMi0h"
      },
      "execution_count": null,
      "outputs": []
    },
    {
      "cell_type": "markdown",
      "source": [
        "Criação da coluna 'price per night' normalizada inversa"
      ],
      "metadata": {
        "id": "iaQ2SIiow_5z"
      }
    },
    {
      "cell_type": "code",
      "source": [
        "df_rec['norm price per guest'] = round(1 - (df_rec['price per guest']/df_rec['price per guest'].max()), 3)"
      ],
      "metadata": {
        "id": "yuqxzUJCx3Mq"
      },
      "execution_count": null,
      "outputs": []
    },
    {
      "cell_type": "markdown",
      "source": [
        "Criação da coluna 'reviews numerical' com os dados de reviews ajustados"
      ],
      "metadata": {
        "id": "ksDJUm-93z07"
      }
    },
    {
      "cell_type": "code",
      "source": [
        "# Substitui oas vírgulas por um espaço vazio\n",
        "df_rec['primaryHost/badges/0'] = df_rec['primaryHost/badges/0'].str.replace(',', '')"
      ],
      "metadata": {
        "id": "6D1uC3S_4BIj"
      },
      "execution_count": null,
      "outputs": []
    },
    {
      "cell_type": "code",
      "source": [
        "# extrai da coluna 'primaryHost/badges/0'  apenas os valores numéricos, transformando-os para float e criando uma nova coluna com esses valores\n",
        "df_rec['reviews numerical'] = df_rec['primaryHost/badges/0'].str.extract(r'(\\d+)', expand=False).astype(float)\n",
        "# Preenche os valores nulos com 0\n",
        "df_rec['reviews numerical'].fillna(0, inplace=True)"
      ],
      "metadata": {
        "id": "TzBKlczrCTw8"
      },
      "execution_count": null,
      "outputs": []
    },
    {
      "cell_type": "markdown",
      "source": [
        "Substituindo dados nulos na coluna 'stars' por zero"
      ],
      "metadata": {
        "id": "aXleRl2WzgyW"
      }
    },
    {
      "cell_type": "code",
      "source": [
        "df_rec['stars'] = df_rec['stars'].fillna(0)"
      ],
      "metadata": {
        "id": "H7Yrqj-12SSK"
      },
      "execution_count": null,
      "outputs": []
    },
    {
      "cell_type": "markdown",
      "source": [
        "Criação da coluna 'score' para armazenar a pontuação geral de cada hospedagem\n",
        "\n",
        "\n",
        "*   Equação da pontuação: ***S = (PHN) x peso + ST x peso + RW x peso***\n",
        "\n",
        "\n",
        "\n",
        "onde PHN é a coluna 'norm price per guest', ST é a coluna 'stars' e RW é a coluna 'reviews numerical'.\n",
        "\n",
        "Nota-se no rankeamento que nem sempre as melhores hospedagens são as mais caras ou mais bem avaliadas por 'stars'. É uma questão de balanço entre algumas variáveis. Esse será justamente o critério chave na busca por hospedagens a serem exibidas para o cliente, de maneira que ele escolha as melhores rankeadas e mais próximas dos pontos turísticos de interesse."
      ],
      "metadata": {
        "id": "3ZnFl4juGdQ7"
      }
    },
    {
      "cell_type": "code",
      "source": [
        "# definindo os pesos\n",
        "peso_PHN = 0.6\n",
        "peso_ST = 0.3\n",
        "peso_RW = 0.1\n",
        "\n",
        "# cálculo de acordo com a equação da descrição\n",
        "df_rec['score'] = round((df_rec['norm price per guest']*peso_PHN +\n",
        "                   df_rec['stars']*peso_ST + df_rec['reviews numerical']*peso_RW), 3)\n",
        "\n",
        "# ordenando os valores decrescentes\n",
        "df_rec = df_rec.sort_values('score', ascending=False)"
      ],
      "metadata": {
        "id": "XH5hxiuiIQDx"
      },
      "execution_count": null,
      "outputs": []
    },
    {
      "cell_type": "markdown",
      "source": [
        "# Exploração e gráficos"
      ],
      "metadata": {
        "id": "NBG6KN7f2Dvu"
      }
    },
    {
      "cell_type": "markdown",
      "source": [
        "## Mapa das localizações"
      ],
      "metadata": {
        "id": "gwKVWlDq2UQs"
      }
    },
    {
      "cell_type": "code",
      "source": [
        "prices = df_rec['price per night']\n",
        "# Define os máximos e mínimos tamanhos para os marcadores\n",
        "max_size = 12\n",
        "min_size = 5\n",
        "\n",
        "# Escala os preços para ajustar a um tamanho proporcional\n",
        "scaled_sizes = [\n",
        "    (price - min(prices)) / (max(prices) - min(prices)) * (max_size - min_size) + min_size\n",
        "    for price in prices\n",
        "]\n",
        "\n",
        "# Criação dos gráficos (traces)\n",
        "trace1 = go.Scattermapbox(\n",
        "    lat = df_rec['location/lat'],\n",
        "    lon = df_rec['location/lng'],\n",
        "    mode='markers',\n",
        "    marker=dict(\n",
        "        size=scaled_sizes,\n",
        "        sizemode='diameter',\n",
        "        sizeref=0.6,  # Controla a escala dos tamanhos dos marcadores\n",
        "        color='blue',\n",
        "        opacity=0.6\n",
        "    ),\n",
        "    hovertext=[\n",
        "        f\"{nome}<br>Preço por noite: {preco} R$<br>Hóspedes: {hosp}\"\n",
        "        for nome, preco, hosp in zip(df_rec['name'], df_rec['price per night'], df_rec['numberOfGuests'])\n",
        "    ],\n",
        "    name='Hospedagens'\n",
        ")\n",
        "\n",
        "trace2 = go.Scattermapbox(\n",
        "    lat = df_museu['latitude'],\n",
        "    lon = df_museu['longitude'],\n",
        "    mode='markers',\n",
        "    marker=dict(\n",
        "        size=10,\n",
        "        color='red',\n",
        "        opacity=0.7\n",
        "    ),\n",
        "    hovertext=[\n",
        "        f\"{nome}<br>Site: <a href='{site}'>{site}</a>\"\n",
        "        for nome, site in zip(df_museu['nome'], df_museu['site'])\n",
        "    ],\n",
        "    name='Museus'\n",
        ")\n",
        "\n",
        "trace3 = go.Scattermapbox(\n",
        "    lat = df_mercado['latitude'],\n",
        "    lon = df_mercado['longitude'],\n",
        "    mode='markers',\n",
        "    marker=dict(\n",
        "        size=10,\n",
        "        color='green',\n",
        "        opacity=0.7\n",
        "    ),\n",
        "    hovertext=df_mercado['nome'],\n",
        "    name='Mercado'\n",
        ")\n",
        "\n",
        "trace4 = go.Scattermapbox(\n",
        "    lat = df_teatro['latitude'],\n",
        "    lon = df_teatro['longitude'],\n",
        "    mode='markers',\n",
        "    marker=dict(\n",
        "        size=10,\n",
        "        color='purple',\n",
        "        opacity=0.8\n",
        "    ),\n",
        "    hovertext=[\n",
        "        f\"{nome}<br>Fone: {fone}\"\n",
        "        for nome, fone in zip(df_teatro['nome'], df_teatro['Telefone'])\n",
        "    ],\n",
        "    name='Teatros'\n",
        ")\n",
        "\n",
        "layout = go.Layout(\n",
        "    margin=dict(l=0, r=0, t=0, b=0),\n",
        "    mapbox=dict(\n",
        "        style = 'open-street-map',\n",
        "        center=dict(lat=df_rec['location/lat'].mean(), lon=df_rec['location/lng'].mean()),\n",
        "        zoom=10.7\n",
        "    ),\n",
        "    showlegend=True\n",
        ")\n",
        "\n",
        "traces=[trace1, trace2, trace3, trace4]\n",
        "\n",
        "# Cria a figura com o scattermap e o layout\n",
        "fig = go.Figure(data=traces, layout=layout)\n",
        "\n",
        "fig.show()\n"
      ],
      "metadata": {
        "id": "D-zzX1pcGtr0",
        "colab": {
          "base_uri": "https://localhost:8080/",
          "height": 542
        },
        "outputId": "21897abe-4b0d-4cc4-eb12-8ceaaa65c71c"
      },
      "execution_count": null,
      "outputs": [
        {
          "output_type": "display_data",
          "data": {
            "text/html": [
              "<html>\n",
              "<head><meta charset=\"utf-8\" /></head>\n",
              "<body>\n",
              "    <div>            <script src=\"https://cdnjs.cloudflare.com/ajax/libs/mathjax/2.7.5/MathJax.js?config=TeX-AMS-MML_SVG\"></script><script type=\"text/javascript\">if (window.MathJax && window.MathJax.Hub && window.MathJax.Hub.Config) {window.MathJax.Hub.Config({SVG: {font: \"STIX-Web\"}});}</script>                <script type=\"text/javascript\">window.PlotlyConfig = {MathJaxConfig: 'local'};</script>\n",
              "        <script src=\"https://cdn.plot.ly/plotly-2.18.2.min.js\"></script>                <div id=\"5fa70780-0e73-4859-b8d3-520b47e5c1bc\" class=\"plotly-graph-div\" style=\"height:525px; width:100%;\"></div>            <script type=\"text/javascript\">                                    window.PLOTLYENV=window.PLOTLYENV || {};                                    if (document.getElementById(\"5fa70780-0e73-4859-b8d3-520b47e5c1bc\")) {                    Plotly.newPlot(                        \"5fa70780-0e73-4859-b8d3-520b47e5c1bc\",                        [{\"hovertext\":[\"Modern Apartment in Beach Class by Carpediem<br>Pre\\u00e7o por noite: 272.333 R$<br>H\\u00f3spedes: 4\",\"PREMIUM COM VARANDA VISTA PANOR\\u00c2MICA DO MAR 24\\u00b0 ANDAR<br>Pre\\u00e7o por noite: 492.0 R$<br>H\\u00f3spedes: 4\",\"Apartamento com Duas camas de Casal e Vista do Mar<br>Pre\\u00e7o por noite: 310.667 R$<br>H\\u00f3spedes: 4\",\"FLAT ALTO LUXO DECORADO BEIRA MAR ANDAR ALTO 1503<br>Pre\\u00e7o por noite: 403.0 R$<br>H\\u00f3spedes: 4\",\"FLAT CHARME ROM\\u00c2NTICO VARANDA BEIRA MAR 24\\u00b0 ANDAR<br>Pre\\u00e7o por noite: 366.667 R$<br>H\\u00f3spedes: 4\",\"Apartment facing the sea in Boa Viagem<br>Pre\\u00e7o por noite: 233.0 R$<br>H\\u00f3spedes: 2\",\"Luxurious 2 bedroom flat next to CASV and Riomar<br>Pre\\u00e7o por noite: 303.333 R$<br>H\\u00f3spedes: 6\",\"Alegre espa\\u00e7oso apto002 \\u00e0s margens do Capibaribe<br>Pre\\u00e7o por noite: 110.333 R$<br>H\\u00f3spedes: 4\",\"Alegre e espa\\u00e7oso apto007 \\u00e0s margens do Capibaribe<br>Pre\\u00e7o por noite: 108.333 R$<br>H\\u00f3spedes: 2\",\"Flat funcional e acolhedor!No Pina perto de tudo<br>Pre\\u00e7o por noite: 99.0 R$<br>H\\u00f3spedes: 5\",\"Flat estiloso SUSTENT\\u00c1VEL no Pina<br>Pre\\u00e7o por noite: 101.333 R$<br>H\\u00f3spedes: 4\",\"The boutique apartment<br>Pre\\u00e7o por noite: 323.667 R$<br>H\\u00f3spedes: 5\",\"The boutique apartment 2 - Boa Viagem<br>Pre\\u00e7o por noite: 335.0 R$<br>H\\u00f3spedes: 4\",\"Boa Viagem - Pina, Recife,  B. Class Excelsior<br>Pre\\u00e7o por noite: 266.333 R$<br>H\\u00f3spedes: 7\",\"Recife, Boa Viagem, Beach Class, Shopping e Praia<br>Pre\\u00e7o por noite: 266.333 R$<br>H\\u00f3spedes: 6\",\"Boa Viagem Recife, Beach Class BV Melhor Local<br>Pre\\u00e7o por noite: 266.333 R$<br>H\\u00f3spedes: 6\",\"Recife- Boa Viagem Flat Hotel e Residence<br>Pre\\u00e7o por noite: 266.333 R$<br>H\\u00f3spedes: 3\",\"Recife e Boa Viagem - Beach C-Hotels e Residence<br>Pre\\u00e7o por noite: 266.333 R$<br>H\\u00f3spedes: 2\",\"NOB2105 Excellent Flat in Boa Viagem, two bedrooms, in Beach Class Convention By H\\u00d4M. Ideal for families and executives<br>Pre\\u00e7o por noite: 418.333 R$<br>H\\u00f3spedes: 5\",\"PM805 Excellent flat in Boa Viagem surrounded by restaurants and supermarkets<br>Pre\\u00e7o por noite: 299.0 R$<br>H\\u00f3spedes: 4\",\"PM306 Excellent apartment for 5 people in Boa Viagem, ideal for families and executives<br>Pre\\u00e7o por noite: 383.333 R$<br>H\\u00f3spedes: 5\",\"PBO902 Great Flat in the Jaqueira neighborhood in Recife, the greenest neighborhood in the city<br>Pre\\u00e7o por noite: 276.0 R$<br>H\\u00f3spedes: 3\",\"PM802 Excellent flat in Boa Viagem, surrounded by restaurants and supermarkets<br>Pre\\u00e7o por noite: 288.0 R$<br>H\\u00f3spedes: 4\",\"ARN901 Apt. com dois quartos pr\\u00f3ximo \\u00e0 Pra\\u00e7a Casa Forte<br>Pre\\u00e7o por noite: 260.0 R$<br>H\\u00f3spedes: 4\",\"RAD2704 Excellent Flat beachfront of Boa Viagem beach, the Radisson Hotel, the best local waterfront<br>Pre\\u00e7o por noite: 437.0 R$<br>H\\u00f3spedes: 3\",\"Quarto su\\u00edte em Boa Viagem<br>Pre\\u00e7o por noite: 77.0 R$<br>H\\u00f3spedes: 2\",\"Quarto em Casa Amarela<br>Pre\\u00e7o por noite: 55.667 R$<br>H\\u00f3spedes: 2\",\"Kitnet Pertinho do Aeroporto<br>Pre\\u00e7o por noite: 114.0 R$<br>H\\u00f3spedes: 3\",\"ACONCHEGANTE APTO NO CORA\\u00c7\\u00c3O DO RECIFE.<br>Pre\\u00e7o por noite: 285.333 R$<br>H\\u00f3spedes: 2\",\"casa de Fazenda Tatu\\u00ed<br>Pre\\u00e7o por noite: 1369.333 R$<br>H\\u00f3spedes: 8\",\"Melhor de Boa Viagem seguro, limpo e confort\\u00e1vel.<br>Pre\\u00e7o por noite: 140.667 R$<br>H\\u00f3spedes: 5\",\"Flat TOP -Beach Class Internacional Av. Boa Viagem<br>Pre\\u00e7o por noite: 715.0 R$<br>H\\u00f3spedes: 4\",\"Viva como Recifense em Flat Conceito com Vista Mar<br>Pre\\u00e7o por noite: 291.667 R$<br>H\\u00f3spedes: 4\",\"Flat top de 2 quartos boa viagem dentro de hotel<br>Pre\\u00e7o por noite: 274.0 R$<br>H\\u00f3spedes: 6\",\"Apartamento Bem Localizado em Boa Viagem<br>Pre\\u00e7o por noite: 280.0 R$<br>H\\u00f3spedes: 6\",\"Flat em Boa Viagem, \\u00f3tima localiza\\u00e7\\u00e3o!!<br>Pre\\u00e7o por noite: 150.0 R$<br>H\\u00f3spedes: 4\",\"Ap Quitinete - UFPE - ao lado da reitoria (4)<br>Pre\\u00e7o por noite: 94.667 R$<br>H\\u00f3spedes: 5\",\"Flat Luxury Soho frente na praia de Boa Viagem<br>Pre\\u00e7o por noite: 281.333 R$<br>H\\u00f3spedes: 4\",\"607 flat em Boa Viagem ao lado do Shopping Recife<br>Pre\\u00e7o por noite: 312.0 R$<br>H\\u00f3spedes: 2\",\"1007 Flat em Boa viagem ao lado do shopping Recife<br>Pre\\u00e7o por noite: 312.0 R$<br>H\\u00f3spedes: 2\",\"MELHOR LOCALIZA\\u00c7\\u00c3O, NO CORA\\u00c7\\u00c3O DE BOA VIAGEM<br>Pre\\u00e7o por noite: 150.0 R$<br>H\\u00f3spedes: 7\",\"Excelente APT<br>Pre\\u00e7o por noite: 135.0 R$<br>H\\u00f3spedes: 9\",\"RAMADA FLAT FRENTE MAR 20* Andar<br>Pre\\u00e7o por noite: 285.333 R$<br>H\\u00f3spedes: 5\",\"Spacious Apartment Boa Viagem Beach<br>Pre\\u00e7o por noite: 833.333 R$<br>H\\u00f3spedes: 10\",\"Certeza que ficar\\u00e1 encantado com sua estadia<br>Pre\\u00e7o por noite: 406.333 R$<br>H\\u00f3spedes: 6\",\"Um sonho de estadia - Flat Luxo e Design<br>Pre\\u00e7o por noite: 306.333 R$<br>H\\u00f3spedes: 4\",\"Encantaremos voc\\u00ea, Apto lindo pr\\u00f3ximo \\u00e0 praia.<br>Pre\\u00e7o por noite: 406.333 R$<br>H\\u00f3spedes: 6\",\"Apartamento Duplex em Boa Viagem Setubal,<br>Pre\\u00e7o por noite: 274.0 R$<br>H\\u00f3spedes: 8\",\"Lindo apartamento com piscina - Beira Mar B.Viagem<br>Pre\\u00e7o por noite: 250.0 R$<br>H\\u00f3spedes: 4\",\"Exclusivo. Permita-se uma experi\\u00eancia diferente<br>Pre\\u00e7o por noite: 562.667 R$<br>H\\u00f3spedes: 5\",\"FLAT DE LUXO EM FRENTE \\u00c0 PRAIA DE BOA VIAGEM<br>Pre\\u00e7o por noite: 232.0 R$<br>H\\u00f3spedes: 2\",\"POUSADA FLAT HOTEL EM CASA FORTE RECIFE - PE (02)<br>Pre\\u00e7o por noite: 306.0 R$<br>H\\u00f3spedes: 3\",\"Room Perfect Park Jaqueira<br>Pre\\u00e7o por noite: 110.333 R$<br>H\\u00f3spedes: 2\",\"Quarto em hotel de luxo na praia de boa viagem<br>Pre\\u00e7o por noite: 232.0 R$<br>H\\u00f3spedes: 2\",\"Apt 1508 Beach Class Executive beira mar c/varanda<br>Pre\\u00e7o por noite: 312.0 R$<br>H\\u00f3spedes: 4\",\"Luxury apartment with panoramic views<br>Pre\\u00e7o por noite: 818.0 R$<br>H\\u00f3spedes: 8\",\"De frente para o MAR. Dentro de um hotel Radisson<br>Pre\\u00e7o por noite: 468.0 R$<br>H\\u00f3spedes: 4\",\"Lindo Flat Boa Viagem 2 quartos<br>Pre\\u00e7o por noite: 323.333 R$<br>H\\u00f3spedes: 4\",\"New Look<br>Pre\\u00e7o por noite: 433.667 R$<br>H\\u00f3spedes: 7\",\"Ref\\u00fagio e tranquilidade -  Apartamento Inteiro<br>Pre\\u00e7o por noite: 105.0 R$<br>H\\u00f3spedes: 3\",\"Sua Casa No Recife ( Excelente Custo Benef\\u00edcio )<br>Pre\\u00e7o por noite: 93.333 R$<br>H\\u00f3spedes: 4\",\"Super Apto bairro Gra\\u00e7as / 4 quartos, 3 banheiros<br>Pre\\u00e7o por noite: 359.333 R$<br>H\\u00f3spedes: 9\",\"400m da Praia Boa Viagem, Wi-Fi 500Mbps - Piscina<br>Pre\\u00e7o por noite: 229.0 R$<br>H\\u00f3spedes: 4\",\"Flat no Hotel Imperial Suites!<br>Pre\\u00e7o por noite: 251.0 R$<br>H\\u00f3spedes: 4\",\"FLAT Beira Mar,  Beach Class Executive<br>Pre\\u00e7o por noite: 313.0 R$<br>H\\u00f3spedes: 4\",\"Lar Doce Lar -2 -\\u00e1rea central e segura do Recife<br>Pre\\u00e7o por noite: 112.333 R$<br>H\\u00f3spedes: 1\",\"Apt 5| 50 m da praia | Vista do mar | Wi-Fi 200 mb<br>Pre\\u00e7o por noite: 353.667 R$<br>H\\u00f3spedes: 4\",\"Superb beachfront apartment, Recife<br>Pre\\u00e7o por noite: 634.0 R$<br>H\\u00f3spedes: 6\",\"Top! Apto confort/3 qtos,130m\\u00b2-Boa Viagem/Recife<br>Pre\\u00e7o por noite: 502.0 R$<br>H\\u00f3spedes: 8\",\"cobertura com piscina<br>Pre\\u00e7o por noite: 679.0 R$<br>H\\u00f3spedes: 6\",\"BOA VIAGEM - 3 QUARTOS - MELHOR PONTO DA PRAIA<br>Pre\\u00e7o por noite: 331.0 R$<br>H\\u00f3spedes: 8\",\"Tr\\u00eas Quartos - Vista do mar - Junto \\u00e0 Pracinha<br>Pre\\u00e7o por noite: 350.0 R$<br>H\\u00f3spedes: 8\",\"Varzea casa Denise (ed\\u00edcula) quarto 2<br>Pre\\u00e7o por noite: 68.333 R$<br>H\\u00f3spedes: 1\",\"Flat Radisson Recife<br>Pre\\u00e7o por noite: 567.667 R$<br>H\\u00f3spedes: 4\",\"Quarto / Boa Viagem / RECIFE<br>Pre\\u00e7o por noite: 114.0 R$<br>H\\u00f3spedes: 2\",\"Casa Amarela: conforto e boa localiza\\u00e7\\u00e3o? Temos!<br>Pre\\u00e7o por noite: 277.667 R$<br>H\\u00f3spedes: 4\",\"Maravilhoso flat, de 2 dormit\\u00f3rios, a 40m da praia<br>Pre\\u00e7o por noite: 471.667 R$<br>H\\u00f3spedes: 4\",\"Boa Viagem beach! 5 rooms, 2 floors&comfort relax!<br>Pre\\u00e7o por noite: 585.667 R$<br>H\\u00f3spedes: 15\",\"Cantinho Acolhedor e bem localizado nas Gra\\u00e7as<br>Pre\\u00e7o por noite: 107.0 R$<br>H\\u00f3spedes: 1\",\"Apto inspirador La Belle de Jour em Boa Viagem<br>Pre\\u00e7o por noite: 968.0 R$<br>H\\u00f3spedes: 6\",\"Hotel Nobile Su\\u00edtes Executive Beira-Mar Boa Viagem<br>Pre\\u00e7o por noite: 277.667 R$<br>H\\u00f3spedes: 2\",\"Cora\\u00e7ao de Boa Viagem, recep\\u00e7ao 24h prox aeroporto<br>Pre\\u00e7o por noite: 278.333 R$<br>H\\u00f3spedes: 4\",\"Apartamento na beira mar de Boa Viagem<br>Pre\\u00e7o por noite: 353.667 R$<br>H\\u00f3spedes: 2\",\"Quarto para temporada<br>Pre\\u00e7o por noite: 61.667 R$<br>H\\u00f3spedes: 1\",\"Ap\\u00ea 2 quartos (1 su\\u00edte) em Casa Forte Wi-Fi 500 MB<br>Pre\\u00e7o por noite: 273.0 R$<br>H\\u00f3spedes: 6\",\"casa. 05 com ar mobiliada pr\\u00f3ximo as praias<br>Pre\\u00e7o por noite: 80.0 R$<br>H\\u00f3spedes: 5\",\"No melhor de Boa Viagem - 50 mts da praia - 2 qts.<br>Pre\\u00e7o por noite: 289.0 R$<br>H\\u00f3spedes: 4\",\"Freitas Residence - Quinta Manuel Rodrigues - 2 quartos<br>Pre\\u00e7o por noite: 25000.0 R$<br>H\\u00f3spedes: 4\",\"casa 04 com ar condicionado mobiliada aprox. praia<br>Pre\\u00e7o por noite: 80.0 R$<br>H\\u00f3spedes: 4\",\"Freitas Residence - Quinta Manuel Rodrigues<br>Pre\\u00e7o por noite: 25000.0 R$<br>H\\u00f3spedes: 3\",\"Freitas Residence - Quinta Manuel Rodrigues<br>Pre\\u00e7o por noite: 25000.0 R$<br>H\\u00f3spedes: 2\",\"Apartamento aconchegante e bem localizado.<br>Pre\\u00e7o por noite: 188.333 R$<br>H\\u00f3spedes: 5\",\"Excelente localiza\\u00e7\\u00e3o Boa Viagem<br>Pre\\u00e7o por noite: 119.667 R$<br>H\\u00f3spedes: 1\",\"Suite Recife Boa Viagem<br>Pre\\u00e7o por noite: 125.667 R$<br>H\\u00f3spedes: 2\",\"Quarto Su\\u00edte Espa\\u00e7oso em Casa Super Ampla!<br>Pre\\u00e7o por noite: 99.0 R$<br>H\\u00f3spedes: 2\",\"Quarto Su\\u00edte Tranquilo em Casa Super Ampla!<br>Pre\\u00e7o por noite: 104.667 R$<br>H\\u00f3spedes: 2\",\"Ap\\u00ea grande, aconchegante e pertinho da praia, WiFi<br>Pre\\u00e7o por noite: 300.667 R$<br>H\\u00f3spedes: 6\",\"Flat incr\\u00edvel na melhor localidade de Boa viagem<br>Pre\\u00e7o por noite: 258.667 R$<br>H\\u00f3spedes: 4\",\"Beira mar de Boa Viagem-Canavarro Flat Experience<br>Pre\\u00e7o por noite: 315.667 R$<br>H\\u00f3spedes: 4\",\"Excelente Quarto Beira Mar!!<br>Pre\\u00e7o por noite: 102.667 R$<br>H\\u00f3spedes: 2\",\"Flat charmoso em praia urbana<br>Pre\\u00e7o por noite: 270.0 R$<br>H\\u00f3spedes: 2\",\"Pousada SalSamba 2<br>Pre\\u00e7o por noite: 101.667 R$<br>H\\u00f3spedes: 2\",\"Casa do Ben - Quarto Daora<br>Pre\\u00e7o por noite: 81.333 R$<br>H\\u00f3spedes: 1\",\"Quarto acomchegante !<br>Pre\\u00e7o por noite: 58.333 R$<br>H\\u00f3spedes: 2\",\"Maravilhoso - Loft - prox col\\u00e9gio Sta Maria<br>Pre\\u00e7o por noite: 1171.667 R$<br>H\\u00f3spedes: 5\",\"Furnished and equipped apartment in Boa Viagem<br>Pre\\u00e7o por noite: 551.667 R$<br>H\\u00f3spedes: 6\",\"APT Completo na melhor localiza\\u00e7\\u00e3o de Boa Viagem<br>Pre\\u00e7o por noite: 360.667 R$<br>H\\u00f3spedes: 4\",\"Solar em Apipucos<br>Pre\\u00e7o por noite: 116.667 R$<br>H\\u00f3spedes: 4\",\"Apartamento tr\\u00eas quartos no centro do Recife<br>Pre\\u00e7o por noite: 604.667 R$<br>H\\u00f3spedes: 5\",\"Quarto amplo, iluminado e ventilado em Boa Viagem<br>Pre\\u00e7o por noite: 110.333 R$<br>H\\u00f3spedes: 2\",\"Quarto pequeno cama de solteiro<br>Pre\\u00e7o por noite: 97.0 R$<br>H\\u00f3spedes: 1\",\"3 /2 The Heart of Boa Viagem por tr\\u00e1s to Mar Hotel<br>Pre\\u00e7o por noite: 281.333 R$<br>H\\u00f3spedes: 5\",\"Conforto em amplo apt perto do parque e Casa Forte<br>Pre\\u00e7o por noite: 494.667 R$<br>H\\u00f3spedes: 6\",\"Apartamento inteiro com self check in - Casa Forte<br>Pre\\u00e7o por noite: 293.0 R$<br>H\\u00f3spedes: 4\",\"Ramon Hostel Bar<br>Pre\\u00e7o por noite: 62.667 R$<br>H\\u00f3spedes: 9\",\"Hostel e Pousada Boa Vista<br>Pre\\u00e7o por noite: 56.0 R$<br>H\\u00f3spedes: 15\",\"Quarto aconchegante na Boa Vista<br>Pre\\u00e7o por noite: 91.333 R$<br>H\\u00f3spedes: 2\",\"um quarto \\u00e0 200 Metros Da UFPE<br>Pre\\u00e7o por noite: 101.667 R$<br>H\\u00f3spedes: 3\",\"Flat Beach Class Jaqueira<br>Pre\\u00e7o por noite: 270.0 R$<br>H\\u00f3spedes: 4\",\"Boa Viagem/c\\u00f4modo duplo (cama+bicama)/qto Recife<br>Pre\\u00e7o por noite: 106.667 R$<br>H\\u00f3spedes: 2\",\"BOM DE + PR\\u00d3XIMO A UFPE<br>Pre\\u00e7o por noite: 285.333 R$<br>H\\u00f3spedes: 5\",\"Apartamento Beira Mar de Boa Viagem<br>Pre\\u00e7o por noite: 456.333 R$<br>H\\u00f3spedes: 6\",\"\\u00d3timo 3 quartos no privilegiado bairro das Gra\\u00e7as<br>Pre\\u00e7o por noite: 388.0 R$<br>H\\u00f3spedes: 5\",\"\\u00d3tima Localiza\\u00e7\\u00e3o e Conforto em Boa Viagem!<br>Pre\\u00e7o por noite: 509.667 R$<br>H\\u00f3spedes: 6\",\"Flat Boa Viagem -\\nApart Hotel Bristol Beach Class<br>Pre\\u00e7o por noite: 399.333 R$<br>H\\u00f3spedes: 6\",\"O QUE VOC\\u00ca PRECISA!!  Localiza\\u00e7\\u00e3o e conforto!<br>Pre\\u00e7o por noite: 547.667 R$<br>H\\u00f3spedes: 10\",\"Um Lindo Lugar para Desfrutar!<br>Pre\\u00e7o por noite: 285.333 R$<br>H\\u00f3spedes: 4\",\"Cozy room near downtown<br>Pre\\u00e7o por noite: 91.333 R$<br>H\\u00f3spedes: 2\",\"Beach Class Hotels & Residence - Flat 2405<br>Pre\\u00e7o por noite: 308.0 R$<br>H\\u00f3spedes: 4\",\"O Mundo L\\u00e1 de Casa<br>Pre\\u00e7o por noite: 684.667 R$<br>H\\u00f3spedes: 4\",\"Apartamento  Av. Boa Viagem, excelente localiza\\u00e7\\u00e3o<br>Pre\\u00e7o por noite: 275.667 R$<br>H\\u00f3spedes: 6\",\"Flat Premium Boa Viagem com Automa\\u00e7\\u00e3o Alexa<br>Pre\\u00e7o por noite: 370.0 R$<br>H\\u00f3spedes: 4\",\"Incr\\u00edvel Apto em Boa Viagem<br>Pre\\u00e7o por noite: 798.667 R$<br>H\\u00f3spedes: 8\",\"Excelente Flat em Boa Viagem com vista para o mar!<br>Pre\\u00e7o por noite: 355.667 R$<br>H\\u00f3spedes: 4\",\"Apartamento luxuoso e aconchegante<br>Pre\\u00e7o por noite: 365.333 R$<br>H\\u00f3spedes: 4\",\"Apartamento completo 3 quartos em boa viagem<br>Pre\\u00e7o por noite: 319.667 R$<br>H\\u00f3spedes: 4\",\"Praia de Boa Viagem - Apartamento de 4 quartos<br>Pre\\u00e7o por noite: 631.333 R$<br>H\\u00f3spedes: 8\",\"Cantinho familiar, sinta-Se em casa<br>Pre\\u00e7o por noite: 74.333 R$<br>H\\u00f3spedes: 1\",\"Casa Rosarinho Quarto 1- pr\\u00f3x. a Jaqueira.<br>Pre\\u00e7o por noite: 91.333 R$<br>H\\u00f3spedes: 5\",\"linda vista mar.<br>Pre\\u00e7o por noite: 399.333 R$<br>H\\u00f3spedes: 7\",\"Beach Class Ilha do Leite - Apto 34m2 decorado!<br>Pre\\u00e7o por noite: 277.667 R$<br>H\\u00f3spedes: 2\",\"Apartamento  ( 1 su\\u00edte) com piscina<br>Pre\\u00e7o por noite: 280.667 R$<br>H\\u00f3spedes: 2\",\"Flat em Boa Viagem! Dois quartos.<br>Pre\\u00e7o por noite: 342.333 R$<br>H\\u00f3spedes: 4\",\"Studio 29 beach Recife Deslumbrante<br>Pre\\u00e7o por noite: 289.0 R$<br>H\\u00f3spedes: 2\",\"Av Boa Viagem. Flat com vista perfeita para o Mar.<br>Pre\\u00e7o por noite: 513.667 R$<br>H\\u00f3spedes: 4\",\"Excelente Flat super equipado e com vista pro Mar!<br>Pre\\u00e7o por noite: 601.0 R$<br>H\\u00f3spedes: 2\",\"QUARTO SOLTEIRO NO ESPINHEIRO<br>Pre\\u00e7o por noite: 97.0 R$<br>H\\u00f3spedes: 2\",\"QUARTO AMPLO E CLIMATIZADO<br>Pre\\u00e7o por noite: 93.333 R$<br>H\\u00f3spedes: 3\",\"Lovely Apt in Boa Viagem\\nBeach & Pool<br>Pre\\u00e7o por noite: 380.333 R$<br>H\\u00f3spedes: 5\",\"Casa Fant\\u00e1stica - Porto de Galinhas/ Muro Alto<br>Pre\\u00e7o por noite: 2092.0 R$<br>H\\u00f3spedes: 16\",\"Flat M\\u00e9rcure Navegantes Recife - Maravilhoso!<br>Pre\\u00e7o por noite: 256.667 R$<br>H\\u00f3spedes: 2\",\"Amplo apto. em excelente localiza\\u00e7\\u00e3o de Boa Viagem<br>Pre\\u00e7o por noite: 581.0 R$<br>H\\u00f3spedes: 4\",\"Excelente Flat em frente a praia de Boa Viagem<br>Pre\\u00e7o por noite: 376.667 R$<br>H\\u00f3spedes: 2\",\"Recife's best/ melhor de Recife<br>Pre\\u00e7o por noite: 1179.333 R$<br>H\\u00f3spedes: 8\",\"Apto completo perto da Cidade Universit\\u00e1ria<br>Pre\\u00e7o por noite: 251.0 R$<br>H\\u00f3spedes: 5\",\"Beach Class Hotels17\\u00b0andar, conforto e luxo.<br>Pre\\u00e7o por noite: 285.333 R$<br>H\\u00f3spedes: 4\",\"Excelente Apto \\u00c1rea Hospitalar (S.Joana/Portugu\\u00eas)<br>Pre\\u00e7o por noite: 352.667 R$<br>H\\u00f3spedes: 5\",\"Apartamento acolhedor com excelente localiza\\u00e7\\u00e3o<br>Pre\\u00e7o por noite: 296.667 R$<br>H\\u00f3spedes: 5\",\"Quarto  individual com banheiro privativo<br>Pre\\u00e7o por noite: 74.333 R$<br>H\\u00f3spedes: 2\",\"Ed. Jardins da Holanda,<br>Pre\\u00e7o por noite: 483.0 R$<br>H\\u00f3spedes: 4\",\"Apartamento Boa Viagem perto de tudo<br>Pre\\u00e7o por noite: 513.667 R$<br>H\\u00f3spedes: 5\",\"Apartamento complet\\u00e3o, ao lado do Shop Rio Mar<br>Pre\\u00e7o por noite: 494.667 R$<br>H\\u00f3spedes: 4\",\"Double room w/ exclusive bathroom<br>Pre\\u00e7o por noite: 464.0 R$<br>H\\u00f3spedes: 2\",\"Flat Mercure Navegantes, 50m praia de Boa Viagem.<br>Pre\\u00e7o por noite: 260.667 R$<br>H\\u00f3spedes: 3\",\"A casa \\u00e9 sua!<br>Pre\\u00e7o por noite: 64.0 R$<br>H\\u00f3spedes: 2\",\"Apartamento urbano industrial | Wi-Fi fibra \\u00f3tica<br>Pre\\u00e7o por noite: 324.0 R$<br>H\\u00f3spedes: 3\",\"Maison JanArtem<br>Pre\\u00e7o por noite: 95.0 R$<br>H\\u00f3spedes: 3\",\"Apartamento alto padr\\u00e3o em Boa Viagem<br>Pre\\u00e7o por noite: 399.333 R$<br>H\\u00f3spedes: 4\",\"Apartamento completo para voc\\u00ea. \\u00c9 s\\u00f3 chegar!<br>Pre\\u00e7o por noite: 430.0 R$<br>H\\u00f3spedes: 4\",\"Apartamento Jussara Freitas, 2 quartos Beira Mar<br>Pre\\u00e7o por noite: 371.0 R$<br>H\\u00f3spedes: 5\",\"Setubal 2 quartos 400 metros do mar<br>Pre\\u00e7o por noite: 502.0 R$<br>H\\u00f3spedes: 4\",\"O lindo apartamento 2 quartos do Derby!<br>Pre\\u00e7o por noite: 326.0 R$<br>H\\u00f3spedes: 4\",\"Ponto Jardim<br>Pre\\u00e7o por noite: 102.667 R$<br>H\\u00f3spedes: 2\",\"Ap em boa viajem dispon\\u00edvel para carnaval os4 dias<br>Pre\\u00e7o por noite: 490.667 R$<br>H\\u00f3spedes: 6\",\"Apartamento amplo, localiza\\u00e7\\u00e3o excelente<br>Pre\\u00e7o por noite: 513.667 R$<br>H\\u00f3spedes: 6\",\"BEST PANORAMIC VIEW 180\\u00ba, BOA VIAGEM BEACH<br>Pre\\u00e7o por noite: 913.0 R$<br>H\\u00f3spedes: 6\",\"Apartamento amplo, aconchegante, praia Boa Viagem<br>Pre\\u00e7o por noite: 559.333 R$<br>H\\u00f3spedes: 6\",\"Casa Espetacular em Muro Alto (Porto de Galinhas)<br>Pre\\u00e7o por noite: 2008.333 R$<br>H\\u00f3spedes: 15\",\"FLAT RESORT NA AVENIDA BOA VIAGEM<br>Pre\\u00e7o por noite: 304.333 R$<br>H\\u00f3spedes: 2\",\"Quarto em um pedacinho de paz no Recife<br>Pre\\u00e7o por noite: 83.0 R$<br>H\\u00f3spedes: 1\",\"Aptubal | apartamento com design minimalista<br>Pre\\u00e7o por noite: 551.333 R$<br>H\\u00f3spedes: 3\",\"Bel\\u00edssimo flat com vista magn\\u00edfica do mar<br>Pre\\u00e7o por noite: 932.0 R$<br>H\\u00f3spedes: 2\",\"Quarto em Apartamento<br>Pre\\u00e7o por noite: 110.333 R$<br>H\\u00f3spedes: 1\",\"Apt superluxo e moderno em Boa Viagem<br>Pre\\u00e7o por noite: 334.667 R$<br>H\\u00f3spedes: 2\",\"Aconchegante e fica a 300 da praia<br>Pre\\u00e7o por noite: 274.0 R$<br>H\\u00f3spedes: 4\",\"Perfeito para familias / charming home with a view<br>Pre\\u00e7o por noite: 493.333 R$<br>H\\u00f3spedes: 4\",\"Apartamento duplex de luxo Beira mar<br>Pre\\u00e7o por noite: 726.667 R$<br>H\\u00f3spedes: 5\",\"Apt Vista Mar, nov\\u00edssimo! 15 km de Olinda!<br>Pre\\u00e7o por noite: 399.333 R$<br>H\\u00f3spedes: 4\",\"Flat na Av Boa Viagem (Recife), Por Temporada<br>Pre\\u00e7o por noite: 542.0 R$<br>H\\u00f3spedes: 6\",\"Apartamento aconchegante<br>Pre\\u00e7o por noite: 631.333 R$<br>H\\u00f3spedes: 2\",\"Experiencie o CENTRO em sobrado hist\\u00f3rico!<br>Pre\\u00e7o por noite: 60.333 R$<br>H\\u00f3spedes: 3\",\"@bc_hospedagens no Bristol<br>Pre\\u00e7o por noite: 456.333 R$<br>H\\u00f3spedes: 4\",\"CH\\u00c1CARA GRAVIRAN<br>Pre\\u00e7o por noite: 951.0 R$<br>H\\u00f3spedes: 10\",\"Quartos pr\\u00f3ximos a praia de Boa Viagem<br>Pre\\u00e7o por noite: 81.667 R$<br>H\\u00f3spedes: 3\",\"Happy Place Quarto para Alugar _ 1<br>Pre\\u00e7o por noite: 76.0 R$<br>H\\u00f3spedes: 2\",\"Quarto no Ipsep perto do aeroporto, e boa viagem<br>Pre\\u00e7o por noite: 80.0 R$<br>H\\u00f3spedes: 2\",\"Quarto em apartamento no melhor cantinho da cidade<br>Pre\\u00e7o por noite: 91.333 R$<br>H\\u00f3spedes: 1\",\"Ambiente aconchegante com artes, design e cultura.<br>Pre\\u00e7o por noite: 74.667 R$<br>H\\u00f3spedes: 1\",\"La Bonita Residence<br>Pre\\u00e7o por noite: 620.0 R$<br>H\\u00f3spedes: 5\",\"Apt a Beira Mar, Recife PE 3 su\\u00edtes c/ar<br>Pre\\u00e7o por noite: 2510.667 R$<br>H\\u00f3spedes: 6\",\"Casinha de Roger em Santo Amaro,  Recife / Centro<br>Pre\\u00e7o por noite: 317.667 R$<br>H\\u00f3spedes: 4\",\"Casa bem ti vi - Carnaval 2023 Olinda/Recife<br>Pre\\u00e7o por noite: 1141.333 R$<br>H\\u00f3spedes: 8\",\"casa com piscina beira-mar.<br>Pre\\u00e7o por noite: 1293.667 R$<br>H\\u00f3spedes: 9\",\"Ap 2 quartos, em Boa  Viagem , pr\\u00f3ximo \\u00e0 praia.<br>Pre\\u00e7o por noite: 1749.667 R$<br>H\\u00f3spedes: 4\",\"Muito silencio, familiar e bem iluminado<br>Pre\\u00e7o por noite: 82.0 R$<br>H\\u00f3spedes: 4\",\"Casa at\\u00e9 seis pessoas UFPE Carnaval 2023<br>Pre\\u00e7o por noite: 1255.333 R$<br>H\\u00f3spedes: 6\",\"excelente apartamento<br>Pre\\u00e7o por noite: 1027.0 R$<br>H\\u00f3spedes: 5\",\"Otima casa para Grupo para copa<br>Pre\\u00e7o por noite: 3423.667 R$<br>H\\u00f3spedes: 15\",\"Alugo casa para o carnaval! 7min de OLINDA.<br>Pre\\u00e7o por noite: 1464.667 R$<br>H\\u00f3spedes: 6\",\"Aluguel pro carnaval do dia 21 ao 29/02<br>Pre\\u00e7o por noite: 2282.333 R$<br>H\\u00f3spedes: 9\",\"Apartamento copa 2014 Recife World<br>Pre\\u00e7o por noite: 1141.333 R$<br>H\\u00f3spedes: 4\",\"Lindo flat no quarteir\\u00e3o da melhor praia de recife<br>Pre\\u00e7o por noite: 1141.333 R$<br>H\\u00f3spedes: 4\",\"Vendo e alugo Apartamento decorado<br>Pre\\u00e7o por noite: 1369.333 R$<br>H\\u00f3spedes: 4\",\"Fazenda fant\\u00e1stica com 7 su\\u00edtes e muito lazer.<br>Pre\\u00e7o por noite: 3195.333 R$<br>H\\u00f3spedes: 9\",\"Per\\u00edodo de Carnaval<br>Pre\\u00e7o por noite: 5706.0 R$<br>H\\u00f3spedes: 15\",\"Suites Catedral<br>Pre\\u00e7o por noite: 1685.667 R$<br>H\\u00f3spedes: 4\",\"Flat Beach Class Santa Maria<br>Pre\\u00e7o por noite: 1141.333 R$<br>H\\u00f3spedes: 2\",\"CASA PARA TEMPORADA AMBIENTE LIMPO E SEGURO EM- PE<br>Pre\\u00e7o por noite: 2853.0 R$<br>H\\u00f3spedes: 4\",\"Premium Quadruplo<br>Pre\\u00e7o por noite: 9999.0 R$<br>H\\u00f3spedes: 4\"],\"lat\":[-8.117,-8.09483,-8.09477,-8.09391,-8.0948,-8.09611,-8.08622,-8.05976,-8.06009,-8.09193,-8.09019,-8.1258,-8.12629,-8.087,-8.11601,-8.11543,-8.11777,-8.11764,-8.11403,-8.139,-8.13792,-8.03509,-8.139,-8.02988,-8.1079,-8.131,-8.02417,-8.14159,-8.06278,-8.09213,-8.13449,-8.09511,-8.14107,-8.11201,-8.11649,-8.12854,-8.055,-8.14,-8.12227,-8.12209,-8.11796,-8.11694,-8.13257,-8.108,-8.125,-8.11871,-8.125,-8.14144,-8.10777,-8.117,-8.09356,-8.04042,-8.03847,-8.0942,-8.09525,-8.034,-8.10646,-8.11331,-8.1347,-8.074,-8.07372,-8.047,-8.111,-8.11861,-8.09429,-8.06348,-8.12481,-8.11553,-8.13138,-8.12972,-8.12626,-8.13144,-8.04121,-8.10827,-8.13679,-8.02685,-8.117,-8.114,-8.04635,-8.116,-8.095,-8.11738,-8.10807,-8.0315,-8.03482,-8.083,-8.11639,-8.10182,-8.08859,-8.10051,-8.10201,-8.04594,-8.11396,-8.11423,-8.04901,-8.04885,-8.11068,-8.11699,-8.09352,-8.14556,-8.10563,-8.03731,-8.044,-8.07369,-8.11262,-8.12567,-8.115,-8.02036,-8.0579,-8.13227,-8.122,-8.13317,-8.0318,-8.02957,-8.129,-8.04941,-8.05958,-8.04612,-8.0333,-8.12814,-8.04726,-8.13699,-8.0499,-8.141,-8.1124,-8.132,-8.17888,-8.049,-8.1176,-8.034,-8.12814,-8.116,-8.09986,-8.11756,-8.11976,-8.1451,-8.12,-8.04807,-8.03113,-8.12677,-8.06357,-8.05,-8.11234,-8.08609,-8.10814,-8.09732,-8.04203,-8.115,-8.11959,-8.44146,-8.1185,-8.12496,-8.117,-8.13954,-8.038,-8.1178,-8.05424,-8.13268,-8.04531,-8.05265,-8.1208,-8.086,-8.13625,-8.11701,-8.038,-8.049,-8.00817,-8.11225,-8.11287,-8.14215,-8.13534,-8.05243,-8.02744,-8.1231,-8.143,-8.1434,-8.14188,-8.44142,-8.09511,-8.08398,-8.139,-8.11878,-8.13281,-8.11759,-8.13657,-8.14499,-8.10967,-8.05375,-8.15236,-8.0548,-8.054,-8.11345,-8.03622,-8.12657,-8.1428,-8.10841,-8.04772,-8.03729,-8.05193,-8.13032,-8.05465,-8.03355,-8.08932,-8.11041,-8.03185,-8.04354,-8.01995,-8.08881,-8.04527,-8.05603,-8.13553,-8.11817,-8.11093,-8.07541,-8.05477,-8.0455,-8.11229,-8.04971,-8.12032],\"lon\":[-34.9,-34.88412,-34.88304,-34.88481,-34.88206,-34.88309,-34.88843,-34.88062,-34.88202,-34.88687,-34.88722,-34.90421,-34.89853,-34.889,-34.8997,-34.89985,-34.89877,-34.9004,-34.89958,-34.906,-34.90668,-34.90364,-34.906,-34.91887,-34.88818,-34.905,-34.92408,-34.91473,-34.90695,-34.88235,-34.90665,-34.88222,-34.90456,-34.8998,-34.90013,-34.9037,-34.946,-34.905,-34.90593,-34.90579,-34.89971,-34.91033,-34.90378,-34.889,-34.898,-34.89641,-34.898,-34.90595,-34.88826,-34.894,-34.88189,-34.91774,-34.90444,-34.88439,-34.88305,-34.919,-34.88918,-34.90008,-34.90398,-34.924,-34.9237,-34.902,-34.894,-34.901,-34.88313,-34.90006,-34.89908,-34.8924,-34.90635,-34.90114,-34.89864,-34.90231,-34.95048,-34.88795,-34.90492,-34.91448,-34.894,-34.895,-34.90065,-34.893,-34.884,-34.90139,-34.88968,-34.93266,-34.91939,-34.88,-34.89383,-34.88705,-34.88141,-34.88551,-34.88687,-34.91301,-34.89647,-34.89783,-34.93255,-34.93269,-34.89053,-34.89441,-34.88409,-34.90556,-34.8878,-34.89682,-34.892,-34.90707,-34.89572,-34.90948,-34.893,-34.93493,-34.87874,-34.90205,-34.898,-34.90559,-34.91157,-34.91817,-34.903,-34.891,-34.88034,-34.94662,-34.91056,-34.90386,-34.93219,-34.90222,-34.90034,-34.905,-34.8989,-34.908,-34.9168,-34.89,-34.8995,-34.887,-34.89686,-34.897,-34.88588,-34.89362,-34.89653,-34.9045,-34.896,-34.90913,-34.89858,-34.90427,-34.89372,-34.899,-34.89979,-34.88819,-34.88707,-34.88426,-34.89084,-34.896,-34.89886,-34.98522,-34.89352,-34.90068,-34.894,-34.90359,-34.945,-34.89939,-34.90311,-34.9018,-34.94953,-34.91127,-34.89686,-34.89,-34.90135,-34.89351,-34.888,-34.895,-34.95438,-34.89346,-34.90092,-34.90555,-34.90613,-34.90158,-34.91156,-34.89961,-34.905,-34.90453,-34.90808,-34.98465,-34.88303,-34.93019,-34.906,-34.89465,-34.90814,-34.90019,-34.90605,-34.90781,-34.89057,-34.88251,-34.90748,-34.87116,-34.878,-34.89868,-34.89821,-34.9172,-34.91634,-34.92524,-34.96051,-34.88413,-34.92495,-34.89862,-34.87816,-34.87951,-34.87993,-34.89184,-34.9074,-34.94229,-34.88767,-34.92572,-34.88388,-34.90156,-34.90653,-34.89387,-35.00067,-34.93969,-34.87852,-34.88919,-34.8956,-34.91815,-34.89858],\"marker\":{\"color\":\"blue\",\"opacity\":0.6,\"size\":[5.060801866299652,5.122445887809468,5.071559339750636,5.097470275112187,5.087274332009599,5.049764048611763,5.0695012370144354,5.015340638693366,5.014779388969831,5.012160317134958,5.012815014937461,5.0752074629536095,5.078387784512017,5.059118117129049,5.059118117129049,5.059118117129049,5.059118117129049,5.059118117129049,5.101773096117664,5.068285289488398,5.091951225955811,5.061830917667752,5.0651984160089585,5.057340919879477,5.1070115204122715,5.00598657017608,5.0,5.016369690061466,5.064449989502625,5.368647339658271,5.023853113250212,5.185025231983553,5.066227467377059,5.061269667944218,5.062953417114821,5.026472185085085,5.010944369608921,5.063327490055557,5.071933412691371,5.071933412691371,5.026472185085085,5.022262812158577,5.064449989502625,5.218232413751052,5.098405597776457,5.070343111599737,5.098405597776457,5.061269667944218,5.054534671261806,5.14227680491597,5.0494834237499955,5.070249663520769,5.015340638693366,5.0494834237499955,5.071933412691371,5.213929592745575,5.115710891127055,5.075113734249779,5.106076197748002,5.013844066305562,5.0105700160433235,5.0852162292733984,5.048641549164694,5.054815296123572,5.072214037553139,5.0159018884169,5.083626208806626,5.16229461818041,5.1252521364271395,5.1749227369599335,5.077265285064948,5.082597157438525,5.003554394499143,5.143679929224806,5.016369690061466,5.062298719312318,5.116739942495155,5.148731176736616,5.014405316029095,5.2560233220106545,5.062298719312318,5.062485615470255,5.083626208806626,5.001683749170603,5.060989043082451,5.006828444761381,5.065479040870726,12.0,5.006828444761381,12.0,12.0,5.037229377911207,5.017959991153101,5.019643740323704,5.012160317134958,5.0137506182265925,5.068753091132964,5.056966846938741,5.072962464059472,5.013189368503058,5.060147168497149,5.012908743641291,5.007202517702117,5.000748145881471,5.313177345732195,5.1391899314365315,5.085590582838996,5.017118116567799,5.154063049110193,5.015340638693366,5.0115990674114235,5.063327490055557,5.123194314315801,5.066601540317794,5.0019643740323705,5.000093448078968,5.010008766319789,5.012908743641291,5.060147168497149,5.014311867950127,5.064449989502625,5.112436840864817,5.093260902185679,5.1274036872423085,5.096441223744087,5.138067431989462,5.064449989502625,5.010008766319789,5.070810913244303,5.176513038051569,5.061737469588784,5.088209654673869,5.2085042722930295,5.08418745853016,5.086899978444002,5.07408496350654,5.161546191674077,5.005238143669747,5.010008766319789,5.096441223744087,5.062298719312318,5.06314059389762,5.080445606623356,5.065479040870726,5.128526186689378,5.153033997742092,5.0115990674114235,5.0105700160433235,5.09110935137051,5.571445666636987,5.056405597215207,5.1474215005067485,5.090080580627271,5.315328615922502,5.054815296123572,5.064449989502625,5.083345583944858,5.067630591685895,5.005238143669747,5.119920264053563,5.128526186689378,5.123194314315801,5.114588391679986,5.057528096662276,5.0023384469731065,5.075300911032578,5.011037817687889,5.096441223744087,5.105047146379901,5.088490279535637,5.1252521364271395,5.075862160756112,5.013189368503058,5.122071814868732,5.128526186689378,5.240588954613458,5.1413412016268385,5.547966626327511,5.069781861876202,5.0076703193466825,5.139096202732701,5.245920826987035,5.015340638693366,5.078294336433049,5.061269667944218,5.122819960750204,5.188299282245791,5.096441223744087,5.136477130897828,5.161546191674077,5.001309395605006,5.112436840864817,5.251252699360612,5.007296246405947,5.005705945314313,5.006828444761381,5.010008766319789,5.005331872373577,5.158365870115669,5.688934035638476,5.073523713783007,5.304664871175349,5.347413578867793,5.475378515833636,5.007389694484916,5.336656105416809,5.27258018885492,5.945144534431929,5.3954004302299845,5.624857838451724,5.304664871175349,5.304664871175349,5.368647339658271,5.8810683372451775,6.585623917063647,5.457418524680536,5.304664871175349,5.785001186441827,7.7903464486302365],\"sizemode\":\"diameter\",\"sizeref\":0.6},\"mode\":\"markers\",\"name\":\"Hospedagens\",\"type\":\"scattermapbox\"},{\"hovertext\":[\"Museu do Homem do Nordeste<br>Site: <a href='http://www.fundaj.gov.br/'>http://www.fundaj.gov.br/</a>\",\"Museu Murilo La Greca<br>Site: <a href='http://museumurillolagreca.com.br/'>http://museumurillolagreca.com.br/</a>\",\"Museu da Cidade do Recife<br>Site: <a href='http://www.recife.pe.gov.br/cultura/museucidade.php'>http://www.recife.pe.gov.br/cultura/museucidade.php</a>\",\"Museu Militar<br>Site: <a href='nan'>nan</a>\",\"Museu de Arte Moderna Alo\\u00edsio Magalh\\u00e3es (Mamam)<br>Site: <a href='http://www.mamam.art.br/'>http://www.mamam.art.br/</a>\",\"Museu Franciscano de Arte Sacra<br>Site: <a href='http://www.capeladourada.com.br/noticias/museu-franciscano-de-arte-sacra/'>http://www.capeladourada.com.br/noticias/museu-franciscano-de-arte-sacra/</a>\",\"Casa-Museu Magdalena e Gilberto Freyre<br>Site: <a href='http://www.fgf.org.br/index.html'>http://www.fgf.org.br/index.html</a>\",\"Oficina Brennand<br>Site: <a href='http://www.brennand.com.br'>http://www.brennand.com.br</a>\",\"Instituto Ricardo Brennand (IRB)<br>Site: <a href='http://www.institutoricardobrennand.org.br/'>http://www.institutoricardobrennand.org.br/</a>\",\"Museu do Estado de Pernambuco<br>Site: <a href='http://hotsites.pernambuco.com/turismo/2012/visite_museu_do_estado/'>http://hotsites.pernambuco.com/turismo/2012/visite_museu_do_estado/</a>\",\"Museu da Aboli\\u00e7\\u00e3o<br>Site: <a href='http://museudaabolicao.museus.gov.br/'>http://museudaabolicao.museus.gov.br/</a>\",\"Instituto Arqueol\\u00f3gico Hist\\u00f3rico e Geogr\\u00e1fico de Pernambuco<br>Site: <a href='http://www.iahgp.com.br/'>http://www.iahgp.com.br/</a>\",\"Museu de Arte Popular<br>Site: <a href='https://museudeartepopular.wordpress.com/'>https://museudeartepopular.wordpress.com/</a>\",\"Cais do Sert\\u00e3o<br>Site: <a href='www.caisdosertao.com.br'>www.caisdosertao.com.br</a>\",\"Casa do Carnaval <br>Site: <a href='http://casadocarnaval.blogspot.com.br/'>http://casadocarnaval.blogspot.com.br/</a>\",\"Observat\\u00f3rio Cultural Torre Malakoff<br>Site: <a href='https://www.facebook.com/TorreMalakoffOnline/'>https://www.facebook.com/TorreMalakoffOnline/</a>\",\"Sinagoga Kahal Zur Israel<br>Site: <a href='http://www.kahalzurisrael.com/'>http://www.kahalzurisrael.com/</a>\",\"Pa\\u00e7o do Frevo<br>Site: <a href='http://www.pacodofrevo.org.br/'>http://www.pacodofrevo.org.br/</a>\",\"Memorial Chico Science<br>Site: <a href='http://www.recife.pe.gov.br/chicoscience/#'>http://www.recife.pe.gov.br/chicoscience/#</a>\",\"Memorial Luiz Gonzaga<br>Site: <a href='http://memorialluizgonzaga.blogspot.com.br/'>http://memorialluizgonzaga.blogspot.com.br/</a>\",\"Museu do Trem<br>Site: <a href='https://www.facebook.com/museudotrempe/'>https://www.facebook.com/museudotrempe/</a>\",\"Museu de Artes Afro-Brasil Rolando Toro<br>Site: <a href='https://www.facebook.com/museuafrobrasilrolandotoro/'>https://www.facebook.com/museuafrobrasilrolandotoro/</a>\"],\"lat\":[-8.030196,-8.037325,-8.071313,-8.052803,-8.061285,-8.062427,-8.020598,-8.052569,-8.065768,null,-8.0571555,-8.0617337,-8.0673105,-8.0631633,-8.0667877,-8.0631633,-8.0618594,-8.0613183,-8.0671216,-8.0672249,-8.0680447,-8.0628495],\"lon\":[-34.925281,-34.909832,-34.880809,-34.871412,-34.881394,-34.877231,-34.938482,-34.974795,-34.964301,-34.901995,-34.9090307,-34.8843858,-34.8790074,-34.8711337,-34.8790547,-34.8711337,-34.8713172,-34.8716376,-34.8788421,-34.8789283,-34.8834433,-34.873079],\"marker\":{\"color\":\"red\",\"opacity\":0.7,\"size\":10},\"mode\":\"markers\",\"name\":\"Museus\",\"type\":\"scattermapbox\"},{\"hovertext\":[\"Mercado de S\\u00e3o Jos\\u00e9\",\"Mercado da Boa Vista\",\"Mercado da Madalena\",\"Mercado da Encruzilhada\",\"Mercado de Casa Amarela\",\"Mercado do Cordeiro \"],\"lat\":[-8.06806,-8.063192,-8.052439,-8.036873,-8.026599,-8.051698],\"lon\":[-34.87775,-34.888654,-34.908554,-34.892434,-34.917882,-34.921372],\"marker\":{\"color\":\"green\",\"opacity\":0.7,\"size\":10},\"mode\":\"markers\",\"name\":\"Mercado\",\"type\":\"scattermapbox\"},{\"hovertext\":[\"Teatro do Parque<br>Fone: (81)33551553\",\"Teatro Barreto J\\u00fanior<br>Fone: (81) 33556398  / 33556399\",\"Teatro de Santa Isabel<br>Fone: (81) 3355.3323 /  33553324\",\"Teatro Apolo<br>Fone: (81) 33553320 / 33553321\",\"Teatro Hermilo Borba Filho<br>Fone: (81) 33553320 / 33553321\",\"Teatro Luiz Mendon\\u00e7a<br>Fone: (81) 33559821 / 33559823\",\"Teatro Boa Vista<br>Fone: (81) 21295961\",\"Teatro Arraial<br>Fone: (81) 31843057\",\"Teatro Valdemar Oliveira<br>Fone: (81) 32221200 / 32221284\",\"Teatro Alfredo de Oliveira<br>Fone: (81) 32221284\",\"Teatro Marco Camarotti<br>Fone: (81) 32161728\",\"Teatro Joaquim Cardozo<br>Fone: (81) 21267388\",\"Teatro Rio Mar<br>Fone: nan\"],\"lat\":[-8.061976,-8.090579,-8.060693,-8.061439,-8.06183,-8.141965,-8.0605756,-8.0599357,-8.055285,-8.0556155,-8.0496014,-8.0600654,-8.0861186],\"lon\":[-34.884742,-34.884095,-34.878138,-34.872534,-34.872795,-34.903683,-34.8935803,-34.8803492,-34.8914722,-34.8918026,-34.8818494,-34.901732,-34.89483],\"marker\":{\"color\":\"purple\",\"opacity\":0.8,\"size\":10},\"mode\":\"markers\",\"name\":\"Teatros\",\"type\":\"scattermapbox\"}],                        {\"mapbox\":{\"center\":{\"lat\":-8.09800105022831,\"lon\":-34.90237926940639},\"style\":\"open-street-map\",\"zoom\":10.7},\"margin\":{\"b\":0,\"l\":0,\"r\":0,\"t\":0},\"showlegend\":true,\"template\":{\"data\":{\"histogram2dcontour\":[{\"type\":\"histogram2dcontour\",\"colorbar\":{\"outlinewidth\":0,\"ticks\":\"\"},\"colorscale\":[[0.0,\"#0d0887\"],[0.1111111111111111,\"#46039f\"],[0.2222222222222222,\"#7201a8\"],[0.3333333333333333,\"#9c179e\"],[0.4444444444444444,\"#bd3786\"],[0.5555555555555556,\"#d8576b\"],[0.6666666666666666,\"#ed7953\"],[0.7777777777777778,\"#fb9f3a\"],[0.8888888888888888,\"#fdca26\"],[1.0,\"#f0f921\"]]}],\"choropleth\":[{\"type\":\"choropleth\",\"colorbar\":{\"outlinewidth\":0,\"ticks\":\"\"}}],\"histogram2d\":[{\"type\":\"histogram2d\",\"colorbar\":{\"outlinewidth\":0,\"ticks\":\"\"},\"colorscale\":[[0.0,\"#0d0887\"],[0.1111111111111111,\"#46039f\"],[0.2222222222222222,\"#7201a8\"],[0.3333333333333333,\"#9c179e\"],[0.4444444444444444,\"#bd3786\"],[0.5555555555555556,\"#d8576b\"],[0.6666666666666666,\"#ed7953\"],[0.7777777777777778,\"#fb9f3a\"],[0.8888888888888888,\"#fdca26\"],[1.0,\"#f0f921\"]]}],\"heatmap\":[{\"type\":\"heatmap\",\"colorbar\":{\"outlinewidth\":0,\"ticks\":\"\"},\"colorscale\":[[0.0,\"#0d0887\"],[0.1111111111111111,\"#46039f\"],[0.2222222222222222,\"#7201a8\"],[0.3333333333333333,\"#9c179e\"],[0.4444444444444444,\"#bd3786\"],[0.5555555555555556,\"#d8576b\"],[0.6666666666666666,\"#ed7953\"],[0.7777777777777778,\"#fb9f3a\"],[0.8888888888888888,\"#fdca26\"],[1.0,\"#f0f921\"]]}],\"heatmapgl\":[{\"type\":\"heatmapgl\",\"colorbar\":{\"outlinewidth\":0,\"ticks\":\"\"},\"colorscale\":[[0.0,\"#0d0887\"],[0.1111111111111111,\"#46039f\"],[0.2222222222222222,\"#7201a8\"],[0.3333333333333333,\"#9c179e\"],[0.4444444444444444,\"#bd3786\"],[0.5555555555555556,\"#d8576b\"],[0.6666666666666666,\"#ed7953\"],[0.7777777777777778,\"#fb9f3a\"],[0.8888888888888888,\"#fdca26\"],[1.0,\"#f0f921\"]]}],\"contourcarpet\":[{\"type\":\"contourcarpet\",\"colorbar\":{\"outlinewidth\":0,\"ticks\":\"\"}}],\"contour\":[{\"type\":\"contour\",\"colorbar\":{\"outlinewidth\":0,\"ticks\":\"\"},\"colorscale\":[[0.0,\"#0d0887\"],[0.1111111111111111,\"#46039f\"],[0.2222222222222222,\"#7201a8\"],[0.3333333333333333,\"#9c179e\"],[0.4444444444444444,\"#bd3786\"],[0.5555555555555556,\"#d8576b\"],[0.6666666666666666,\"#ed7953\"],[0.7777777777777778,\"#fb9f3a\"],[0.8888888888888888,\"#fdca26\"],[1.0,\"#f0f921\"]]}],\"surface\":[{\"type\":\"surface\",\"colorbar\":{\"outlinewidth\":0,\"ticks\":\"\"},\"colorscale\":[[0.0,\"#0d0887\"],[0.1111111111111111,\"#46039f\"],[0.2222222222222222,\"#7201a8\"],[0.3333333333333333,\"#9c179e\"],[0.4444444444444444,\"#bd3786\"],[0.5555555555555556,\"#d8576b\"],[0.6666666666666666,\"#ed7953\"],[0.7777777777777778,\"#fb9f3a\"],[0.8888888888888888,\"#fdca26\"],[1.0,\"#f0f921\"]]}],\"mesh3d\":[{\"type\":\"mesh3d\",\"colorbar\":{\"outlinewidth\":0,\"ticks\":\"\"}}],\"scatter\":[{\"fillpattern\":{\"fillmode\":\"overlay\",\"size\":10,\"solidity\":0.2},\"type\":\"scatter\"}],\"parcoords\":[{\"type\":\"parcoords\",\"line\":{\"colorbar\":{\"outlinewidth\":0,\"ticks\":\"\"}}}],\"scatterpolargl\":[{\"type\":\"scatterpolargl\",\"marker\":{\"colorbar\":{\"outlinewidth\":0,\"ticks\":\"\"}}}],\"bar\":[{\"error_x\":{\"color\":\"#2a3f5f\"},\"error_y\":{\"color\":\"#2a3f5f\"},\"marker\":{\"line\":{\"color\":\"#E5ECF6\",\"width\":0.5},\"pattern\":{\"fillmode\":\"overlay\",\"size\":10,\"solidity\":0.2}},\"type\":\"bar\"}],\"scattergeo\":[{\"type\":\"scattergeo\",\"marker\":{\"colorbar\":{\"outlinewidth\":0,\"ticks\":\"\"}}}],\"scatterpolar\":[{\"type\":\"scatterpolar\",\"marker\":{\"colorbar\":{\"outlinewidth\":0,\"ticks\":\"\"}}}],\"histogram\":[{\"marker\":{\"pattern\":{\"fillmode\":\"overlay\",\"size\":10,\"solidity\":0.2}},\"type\":\"histogram\"}],\"scattergl\":[{\"type\":\"scattergl\",\"marker\":{\"colorbar\":{\"outlinewidth\":0,\"ticks\":\"\"}}}],\"scatter3d\":[{\"type\":\"scatter3d\",\"line\":{\"colorbar\":{\"outlinewidth\":0,\"ticks\":\"\"}},\"marker\":{\"colorbar\":{\"outlinewidth\":0,\"ticks\":\"\"}}}],\"scattermapbox\":[{\"type\":\"scattermapbox\",\"marker\":{\"colorbar\":{\"outlinewidth\":0,\"ticks\":\"\"}}}],\"scatterternary\":[{\"type\":\"scatterternary\",\"marker\":{\"colorbar\":{\"outlinewidth\":0,\"ticks\":\"\"}}}],\"scattercarpet\":[{\"type\":\"scattercarpet\",\"marker\":{\"colorbar\":{\"outlinewidth\":0,\"ticks\":\"\"}}}],\"carpet\":[{\"aaxis\":{\"endlinecolor\":\"#2a3f5f\",\"gridcolor\":\"white\",\"linecolor\":\"white\",\"minorgridcolor\":\"white\",\"startlinecolor\":\"#2a3f5f\"},\"baxis\":{\"endlinecolor\":\"#2a3f5f\",\"gridcolor\":\"white\",\"linecolor\":\"white\",\"minorgridcolor\":\"white\",\"startlinecolor\":\"#2a3f5f\"},\"type\":\"carpet\"}],\"table\":[{\"cells\":{\"fill\":{\"color\":\"#EBF0F8\"},\"line\":{\"color\":\"white\"}},\"header\":{\"fill\":{\"color\":\"#C8D4E3\"},\"line\":{\"color\":\"white\"}},\"type\":\"table\"}],\"barpolar\":[{\"marker\":{\"line\":{\"color\":\"#E5ECF6\",\"width\":0.5},\"pattern\":{\"fillmode\":\"overlay\",\"size\":10,\"solidity\":0.2}},\"type\":\"barpolar\"}],\"pie\":[{\"automargin\":true,\"type\":\"pie\"}]},\"layout\":{\"autotypenumbers\":\"strict\",\"colorway\":[\"#636efa\",\"#EF553B\",\"#00cc96\",\"#ab63fa\",\"#FFA15A\",\"#19d3f3\",\"#FF6692\",\"#B6E880\",\"#FF97FF\",\"#FECB52\"],\"font\":{\"color\":\"#2a3f5f\"},\"hovermode\":\"closest\",\"hoverlabel\":{\"align\":\"left\"},\"paper_bgcolor\":\"white\",\"plot_bgcolor\":\"#E5ECF6\",\"polar\":{\"bgcolor\":\"#E5ECF6\",\"angularaxis\":{\"gridcolor\":\"white\",\"linecolor\":\"white\",\"ticks\":\"\"},\"radialaxis\":{\"gridcolor\":\"white\",\"linecolor\":\"white\",\"ticks\":\"\"}},\"ternary\":{\"bgcolor\":\"#E5ECF6\",\"aaxis\":{\"gridcolor\":\"white\",\"linecolor\":\"white\",\"ticks\":\"\"},\"baxis\":{\"gridcolor\":\"white\",\"linecolor\":\"white\",\"ticks\":\"\"},\"caxis\":{\"gridcolor\":\"white\",\"linecolor\":\"white\",\"ticks\":\"\"}},\"coloraxis\":{\"colorbar\":{\"outlinewidth\":0,\"ticks\":\"\"}},\"colorscale\":{\"sequential\":[[0.0,\"#0d0887\"],[0.1111111111111111,\"#46039f\"],[0.2222222222222222,\"#7201a8\"],[0.3333333333333333,\"#9c179e\"],[0.4444444444444444,\"#bd3786\"],[0.5555555555555556,\"#d8576b\"],[0.6666666666666666,\"#ed7953\"],[0.7777777777777778,\"#fb9f3a\"],[0.8888888888888888,\"#fdca26\"],[1.0,\"#f0f921\"]],\"sequentialminus\":[[0.0,\"#0d0887\"],[0.1111111111111111,\"#46039f\"],[0.2222222222222222,\"#7201a8\"],[0.3333333333333333,\"#9c179e\"],[0.4444444444444444,\"#bd3786\"],[0.5555555555555556,\"#d8576b\"],[0.6666666666666666,\"#ed7953\"],[0.7777777777777778,\"#fb9f3a\"],[0.8888888888888888,\"#fdca26\"],[1.0,\"#f0f921\"]],\"diverging\":[[0,\"#8e0152\"],[0.1,\"#c51b7d\"],[0.2,\"#de77ae\"],[0.3,\"#f1b6da\"],[0.4,\"#fde0ef\"],[0.5,\"#f7f7f7\"],[0.6,\"#e6f5d0\"],[0.7,\"#b8e186\"],[0.8,\"#7fbc41\"],[0.9,\"#4d9221\"],[1,\"#276419\"]]},\"xaxis\":{\"gridcolor\":\"white\",\"linecolor\":\"white\",\"ticks\":\"\",\"title\":{\"standoff\":15},\"zerolinecolor\":\"white\",\"automargin\":true,\"zerolinewidth\":2},\"yaxis\":{\"gridcolor\":\"white\",\"linecolor\":\"white\",\"ticks\":\"\",\"title\":{\"standoff\":15},\"zerolinecolor\":\"white\",\"automargin\":true,\"zerolinewidth\":2},\"scene\":{\"xaxis\":{\"backgroundcolor\":\"#E5ECF6\",\"gridcolor\":\"white\",\"linecolor\":\"white\",\"showbackground\":true,\"ticks\":\"\",\"zerolinecolor\":\"white\",\"gridwidth\":2},\"yaxis\":{\"backgroundcolor\":\"#E5ECF6\",\"gridcolor\":\"white\",\"linecolor\":\"white\",\"showbackground\":true,\"ticks\":\"\",\"zerolinecolor\":\"white\",\"gridwidth\":2},\"zaxis\":{\"backgroundcolor\":\"#E5ECF6\",\"gridcolor\":\"white\",\"linecolor\":\"white\",\"showbackground\":true,\"ticks\":\"\",\"zerolinecolor\":\"white\",\"gridwidth\":2}},\"shapedefaults\":{\"line\":{\"color\":\"#2a3f5f\"}},\"annotationdefaults\":{\"arrowcolor\":\"#2a3f5f\",\"arrowhead\":0,\"arrowwidth\":1},\"geo\":{\"bgcolor\":\"white\",\"landcolor\":\"#E5ECF6\",\"subunitcolor\":\"white\",\"showland\":true,\"showlakes\":true,\"lakecolor\":\"white\"},\"title\":{\"x\":0.05},\"mapbox\":{\"style\":\"light\"}}}},                        {\"responsive\": true}                    ).then(function(){\n",
              "                            \n",
              "var gd = document.getElementById('5fa70780-0e73-4859-b8d3-520b47e5c1bc');\n",
              "var x = new MutationObserver(function (mutations, observer) {{\n",
              "        var display = window.getComputedStyle(gd).display;\n",
              "        if (!display || display === 'none') {{\n",
              "            console.log([gd, 'removed!']);\n",
              "            Plotly.purge(gd);\n",
              "            observer.disconnect();\n",
              "        }}\n",
              "}});\n",
              "\n",
              "// Listen for the removal of the full notebook cells\n",
              "var notebookContainer = gd.closest('#notebook-container');\n",
              "if (notebookContainer) {{\n",
              "    x.observe(notebookContainer, {childList: true});\n",
              "}}\n",
              "\n",
              "// Listen for the clearing of the current output cell\n",
              "var outputEl = gd.closest('.output');\n",
              "if (outputEl) {{\n",
              "    x.observe(outputEl, {childList: true});\n",
              "}}\n",
              "\n",
              "                        })                };                            </script>        </div>\n",
              "</body>\n",
              "</html>"
            ]
          },
          "metadata": {}
        }
      ]
    },
    {
      "cell_type": "markdown",
      "source": [
        "O mapa destaca a localização geográfica das hospedagens da Airbnb em Recife, permitindo que os usuários tenham uma visão geral das opções disponíveis em diferentes áreas da cidade. Essa visualização é valiosa para viajantes que desejam escolher acomodações próximas a pontos turísticos específicos, facilitando o planejamento de suas atividades durante a estadia.\n",
        "\n",
        "A sobreposição dos pontos turísticos, como museus, mercados e teatros, ao mapa das hospedagens é uma informação valiosa para os viajantes. Isso permite que eles identifiquem rapidamente quais hospedagens estão próximas aos pontos de interesse que desejam visitar. A proximidade dessas atrações pode influenciar a escolha da acomodação, pois pode economizar tempo e custos de transporte durante a viagem.\n",
        "\n",
        "A escala dos tamanhos dos marcadores com base nos preços por noite das acomodações é uma maneira inteligente de visualizar a relação entre preço e localização. Através dos pontos de diferentes tamanhos, os usuários podem identificar áreas onde as acomodações são mais acessíveis ou mais luxuosas. Essa informação é especialmente útil para viajantes que buscam acomodações que atendam ao seu orçamento ou preferências de luxo."
      ],
      "metadata": {
        "id": "QN2qs5F47ywm"
      }
    },
    {
      "cell_type": "markdown",
      "source": [
        "## Mediana de preço por noite e por hóspede\n",
        "\n",
        "\n"
      ],
      "metadata": {
        "id": "02eDY_vQ1Y9T"
      }
    },
    {
      "cell_type": "markdown",
      "source": [
        "Análise"
      ],
      "metadata": {
        "id": "05ZcKmXC99h5"
      }
    },
    {
      "cell_type": "code",
      "source": [
        "# Localizações mais comuns\n",
        "com_address = df_rec['stand address'].value_counts().head(5)\n",
        "com_address"
      ],
      "metadata": {
        "colab": {
          "base_uri": "https://localhost:8080/"
        },
        "id": "tvxKZEIs-tDq",
        "outputId": "efe89a6b-2e8f-4b3a-82a3-cf220085d78a"
      },
      "execution_count": null,
      "outputs": [
        {
          "output_type": "execute_result",
          "data": {
            "text/plain": [
              "Boa Viagem    89\n",
              "Recife        64\n",
              "Boa Vista      6\n",
              "Graças         5\n",
              "Várzea         4\n",
              "Name: stand address, dtype: int64"
            ]
          },
          "metadata": {},
          "execution_count": 36
        }
      ]
    },
    {
      "cell_type": "markdown",
      "source": [
        "A análise dos dados revela que as localizações mais comuns para hospedagens em Recife são Boa Viagem, Recife, Boa Vista, Graças e Várzea. Boa Viagem se destaca com o maior número de hospedagens, provavelmente devido à sua popularidade devido à bela praia e infraestrutura turística. Recife, como a capital, também oferece muitas opções de acomodação. Outras áreas menos turísticas, como Boa Vista, Graças e Várzea, também possuem algumas opções de hospedagem para aqueles que buscam experiências mais autênticas e tranquilas."
      ],
      "metadata": {
        "id": "-lJoVNPo74p3"
      }
    },
    {
      "cell_type": "code",
      "source": [
        "median_night_prices = round(df_rec.loc[df_rec['stand address'].isin(com_address.index),\n",
        "                                       'price per night'].groupby(df_rec['stand address']).median().sort_values(ascending=False), 3)\n",
        "median_night_prices"
      ],
      "metadata": {
        "colab": {
          "base_uri": "https://localhost:8080/"
        },
        "id": "8-bAcSMbD4fm",
        "outputId": "50ffd032-0ee4-4d10-c681-1bc00e9221bd"
      },
      "execution_count": null,
      "outputs": [
        {
          "output_type": "execute_result",
          "data": {
            "text/plain": [
              "stand address\n",
              "Boa Viagem    360.667\n",
              "Graças        326.000\n",
              "Recife        286.667\n",
              "Boa Vista     109.333\n",
              "Várzea         82.833\n",
              "Name: price per night, dtype: float64"
            ]
          },
          "metadata": {},
          "execution_count": 53
        }
      ]
    },
    {
      "cell_type": "markdown",
      "source": [
        "A análise dos preços medianos por noite revela que Boa Viagem tem as hospedagens mais caras, seguida pelas Graças e Recife. Boa Vista apresenta preços intermediários, enquanto Várzea é a localização mais econômica. Essas informações ajudam os viajantes a escolherem acomodações que atendam às suas preferências e orçamentos durante a estadia em Recife."
      ],
      "metadata": {
        "id": "gq_Tnv2_7-wN"
      }
    },
    {
      "cell_type": "code",
      "source": [
        "median_night_prices_guest = round(df_rec.loc[df_rec['stand address'].isin(com_address.index), 'price per guest'].groupby(df_rec['stand address']).median(), 3)\n",
        "median_night_prices_guest"
      ],
      "metadata": {
        "colab": {
          "base_uri": "https://localhost:8080/"
        },
        "id": "K5NBx7lf-YhQ",
        "outputId": "9f8f0097-5b64-4068-f461-4f1f8d23a423"
      },
      "execution_count": null,
      "outputs": [
        {
          "output_type": "execute_result",
          "data": {
            "text/plain": [
              "stand address\n",
              "Boa Viagem    88.778\n",
              "Boa Vista     49.917\n",
              "Graças        81.500\n",
              "Recife        76.362\n",
              "Várzea        52.750\n",
              "Name: price per guest, dtype: float64"
            ]
          },
          "metadata": {},
          "execution_count": 54
        }
      ]
    },
    {
      "cell_type": "markdown",
      "source": [
        "A análise dos preços medianos por hóspede para as localizações mais comuns em Recife revela que Boa Viagem apresenta os valores mais altos, seguida por Graças e Recife. Boa Vista tem preços medianos intermediários, enquanto Várzea oferece os preços mais baixos por hóspede. Essas informações auxiliam os viajantes a entenderem os custos de hospedagem por pessoa em diferentes áreas da cidade."
      ],
      "metadata": {
        "id": "coodp8v58HaB"
      }
    },
    {
      "cell_type": "code",
      "source": [
        "sorted_prices_guest = median_night_prices_guest.reindex(median_night_prices.index)"
      ],
      "metadata": {
        "id": "s_UZSpmFFtGc"
      },
      "execution_count": null,
      "outputs": []
    },
    {
      "cell_type": "markdown",
      "source": [
        "Gráfico"
      ],
      "metadata": {
        "id": "NSF5MqWdXyoL"
      }
    },
    {
      "cell_type": "code",
      "source": [
        "# Plot do gráfico\n",
        "trace1 = go.Bar(\n",
        "        x=median_night_prices.index, y=median_night_prices.values,\n",
        "        name='Preço por noite',\n",
        "        marker_color='rgb(27, 158, 119)',\n",
        "        text=median_night_prices.values, textposition='auto'\n",
        "        )\n",
        "\n",
        "trace2 = go.Bar(\n",
        "        x=sorted_prices_guest.index, y=sorted_prices_guest.values,\n",
        "        name='Preço por hóspede',\n",
        "        marker_color='rgb(117,112,179)',\n",
        "        text=sorted_prices_guest.values, textposition='auto'\n",
        "        )\n",
        "\n",
        "layout = go.Layout(\n",
        "    title='Mediana de preço por noite e por hóspede para cada localização', title_x=0.45,\n",
        "    yaxis=dict(title='Preço Por Noite (R$)', titlefont_size=16, tickfont_size=14,\n",
        "               showline=True, linewidth=1, linecolor='black'),\n",
        "    xaxis=dict(title='Locais', titlefont_size=16, tickfont_size=14,\n",
        "               showline=True, linewidth=1, linecolor='black'),\n",
        "    legend=dict(x=0.85, y=1.0, bgcolor='rgba(255, 255, 255, 0)', bordercolor='rgba(255, 255, 255, 0)'),\n",
        "    barmode='group', bargap=0.15, bargroupgap=0.1, plot_bgcolor='white', height=600, width=1300\n",
        "    )\n",
        "\n",
        "traces = [trace1, trace2]\n",
        "\n",
        "# Create the figure with all the boxplot traces\n",
        "fig = go.Figure(data=traces, layout=layout)\n",
        "\n",
        "# Show the figure\n",
        "fig.show()"
      ],
      "metadata": {
        "colab": {
          "base_uri": "https://localhost:8080/",
          "height": 637
        },
        "id": "kXXX5d-AE5e0",
        "outputId": "c79c3e30-5411-47b7-ccee-c38e2228dd28"
      },
      "execution_count": null,
      "outputs": [
        {
          "output_type": "display_data",
          "data": {
            "text/html": [
              "<html>\n",
              "<head><meta charset=\"utf-8\" /></head>\n",
              "<body>\n",
              "    <div>            <script src=\"https://cdnjs.cloudflare.com/ajax/libs/mathjax/2.7.5/MathJax.js?config=TeX-AMS-MML_SVG\"></script><script type=\"text/javascript\">if (window.MathJax && window.MathJax.Hub && window.MathJax.Hub.Config) {window.MathJax.Hub.Config({SVG: {font: \"STIX-Web\"}});}</script>                <script type=\"text/javascript\">window.PlotlyConfig = {MathJaxConfig: 'local'};</script>\n",
              "        <script src=\"https://cdn.plot.ly/plotly-2.18.2.min.js\"></script>                <div id=\"410bc73c-af2f-42cb-b98c-4cbb0bce2df8\" class=\"plotly-graph-div\" style=\"height:600px; width:1300px;\"></div>            <script type=\"text/javascript\">                                    window.PLOTLYENV=window.PLOTLYENV || {};                                    if (document.getElementById(\"410bc73c-af2f-42cb-b98c-4cbb0bce2df8\")) {                    Plotly.newPlot(                        \"410bc73c-af2f-42cb-b98c-4cbb0bce2df8\",                        [{\"marker\":{\"color\":\"rgb(27, 158, 119)\"},\"name\":\"Pre\\u00e7o por noite\",\"text\":[360.667,326.0,286.667,109.333,82.833],\"textposition\":\"auto\",\"x\":[\"Boa Viagem\",\"Gra\\u00e7as\",\"Recife\",\"Boa Vista\",\"V\\u00e1rzea\"],\"y\":[360.667,326.0,286.667,109.333,82.833],\"type\":\"bar\"},{\"marker\":{\"color\":\"rgb(117,112,179)\"},\"name\":\"Pre\\u00e7o por h\\u00f3spede\",\"text\":[88.778,81.5,76.362,49.917,52.75],\"textposition\":\"auto\",\"x\":[\"Boa Viagem\",\"Gra\\u00e7as\",\"Recife\",\"Boa Vista\",\"V\\u00e1rzea\"],\"y\":[88.778,81.5,76.362,49.917,52.75],\"type\":\"bar\"}],                        {\"bargap\":0.15,\"bargroupgap\":0.1,\"barmode\":\"group\",\"height\":600,\"legend\":{\"bgcolor\":\"rgba(255, 255, 255, 0)\",\"bordercolor\":\"rgba(255, 255, 255, 0)\",\"x\":0.85,\"y\":1.0},\"plot_bgcolor\":\"white\",\"title\":{\"text\":\"Mediana de pre\\u00e7o por noite e por h\\u00f3spede para cada localiza\\u00e7\\u00e3o\",\"x\":0.45},\"width\":1300,\"xaxis\":{\"linecolor\":\"black\",\"linewidth\":1,\"showline\":true,\"tickfont\":{\"size\":14},\"title\":{\"font\":{\"size\":16},\"text\":\"Locais\"}},\"yaxis\":{\"linecolor\":\"black\",\"linewidth\":1,\"showline\":true,\"tickfont\":{\"size\":14},\"title\":{\"font\":{\"size\":16},\"text\":\"Pre\\u00e7o Por Noite (R$)\"}},\"template\":{\"data\":{\"histogram2dcontour\":[{\"type\":\"histogram2dcontour\",\"colorbar\":{\"outlinewidth\":0,\"ticks\":\"\"},\"colorscale\":[[0.0,\"#0d0887\"],[0.1111111111111111,\"#46039f\"],[0.2222222222222222,\"#7201a8\"],[0.3333333333333333,\"#9c179e\"],[0.4444444444444444,\"#bd3786\"],[0.5555555555555556,\"#d8576b\"],[0.6666666666666666,\"#ed7953\"],[0.7777777777777778,\"#fb9f3a\"],[0.8888888888888888,\"#fdca26\"],[1.0,\"#f0f921\"]]}],\"choropleth\":[{\"type\":\"choropleth\",\"colorbar\":{\"outlinewidth\":0,\"ticks\":\"\"}}],\"histogram2d\":[{\"type\":\"histogram2d\",\"colorbar\":{\"outlinewidth\":0,\"ticks\":\"\"},\"colorscale\":[[0.0,\"#0d0887\"],[0.1111111111111111,\"#46039f\"],[0.2222222222222222,\"#7201a8\"],[0.3333333333333333,\"#9c179e\"],[0.4444444444444444,\"#bd3786\"],[0.5555555555555556,\"#d8576b\"],[0.6666666666666666,\"#ed7953\"],[0.7777777777777778,\"#fb9f3a\"],[0.8888888888888888,\"#fdca26\"],[1.0,\"#f0f921\"]]}],\"heatmap\":[{\"type\":\"heatmap\",\"colorbar\":{\"outlinewidth\":0,\"ticks\":\"\"},\"colorscale\":[[0.0,\"#0d0887\"],[0.1111111111111111,\"#46039f\"],[0.2222222222222222,\"#7201a8\"],[0.3333333333333333,\"#9c179e\"],[0.4444444444444444,\"#bd3786\"],[0.5555555555555556,\"#d8576b\"],[0.6666666666666666,\"#ed7953\"],[0.7777777777777778,\"#fb9f3a\"],[0.8888888888888888,\"#fdca26\"],[1.0,\"#f0f921\"]]}],\"heatmapgl\":[{\"type\":\"heatmapgl\",\"colorbar\":{\"outlinewidth\":0,\"ticks\":\"\"},\"colorscale\":[[0.0,\"#0d0887\"],[0.1111111111111111,\"#46039f\"],[0.2222222222222222,\"#7201a8\"],[0.3333333333333333,\"#9c179e\"],[0.4444444444444444,\"#bd3786\"],[0.5555555555555556,\"#d8576b\"],[0.6666666666666666,\"#ed7953\"],[0.7777777777777778,\"#fb9f3a\"],[0.8888888888888888,\"#fdca26\"],[1.0,\"#f0f921\"]]}],\"contourcarpet\":[{\"type\":\"contourcarpet\",\"colorbar\":{\"outlinewidth\":0,\"ticks\":\"\"}}],\"contour\":[{\"type\":\"contour\",\"colorbar\":{\"outlinewidth\":0,\"ticks\":\"\"},\"colorscale\":[[0.0,\"#0d0887\"],[0.1111111111111111,\"#46039f\"],[0.2222222222222222,\"#7201a8\"],[0.3333333333333333,\"#9c179e\"],[0.4444444444444444,\"#bd3786\"],[0.5555555555555556,\"#d8576b\"],[0.6666666666666666,\"#ed7953\"],[0.7777777777777778,\"#fb9f3a\"],[0.8888888888888888,\"#fdca26\"],[1.0,\"#f0f921\"]]}],\"surface\":[{\"type\":\"surface\",\"colorbar\":{\"outlinewidth\":0,\"ticks\":\"\"},\"colorscale\":[[0.0,\"#0d0887\"],[0.1111111111111111,\"#46039f\"],[0.2222222222222222,\"#7201a8\"],[0.3333333333333333,\"#9c179e\"],[0.4444444444444444,\"#bd3786\"],[0.5555555555555556,\"#d8576b\"],[0.6666666666666666,\"#ed7953\"],[0.7777777777777778,\"#fb9f3a\"],[0.8888888888888888,\"#fdca26\"],[1.0,\"#f0f921\"]]}],\"mesh3d\":[{\"type\":\"mesh3d\",\"colorbar\":{\"outlinewidth\":0,\"ticks\":\"\"}}],\"scatter\":[{\"fillpattern\":{\"fillmode\":\"overlay\",\"size\":10,\"solidity\":0.2},\"type\":\"scatter\"}],\"parcoords\":[{\"type\":\"parcoords\",\"line\":{\"colorbar\":{\"outlinewidth\":0,\"ticks\":\"\"}}}],\"scatterpolargl\":[{\"type\":\"scatterpolargl\",\"marker\":{\"colorbar\":{\"outlinewidth\":0,\"ticks\":\"\"}}}],\"bar\":[{\"error_x\":{\"color\":\"#2a3f5f\"},\"error_y\":{\"color\":\"#2a3f5f\"},\"marker\":{\"line\":{\"color\":\"#E5ECF6\",\"width\":0.5},\"pattern\":{\"fillmode\":\"overlay\",\"size\":10,\"solidity\":0.2}},\"type\":\"bar\"}],\"scattergeo\":[{\"type\":\"scattergeo\",\"marker\":{\"colorbar\":{\"outlinewidth\":0,\"ticks\":\"\"}}}],\"scatterpolar\":[{\"type\":\"scatterpolar\",\"marker\":{\"colorbar\":{\"outlinewidth\":0,\"ticks\":\"\"}}}],\"histogram\":[{\"marker\":{\"pattern\":{\"fillmode\":\"overlay\",\"size\":10,\"solidity\":0.2}},\"type\":\"histogram\"}],\"scattergl\":[{\"type\":\"scattergl\",\"marker\":{\"colorbar\":{\"outlinewidth\":0,\"ticks\":\"\"}}}],\"scatter3d\":[{\"type\":\"scatter3d\",\"line\":{\"colorbar\":{\"outlinewidth\":0,\"ticks\":\"\"}},\"marker\":{\"colorbar\":{\"outlinewidth\":0,\"ticks\":\"\"}}}],\"scattermapbox\":[{\"type\":\"scattermapbox\",\"marker\":{\"colorbar\":{\"outlinewidth\":0,\"ticks\":\"\"}}}],\"scatterternary\":[{\"type\":\"scatterternary\",\"marker\":{\"colorbar\":{\"outlinewidth\":0,\"ticks\":\"\"}}}],\"scattercarpet\":[{\"type\":\"scattercarpet\",\"marker\":{\"colorbar\":{\"outlinewidth\":0,\"ticks\":\"\"}}}],\"carpet\":[{\"aaxis\":{\"endlinecolor\":\"#2a3f5f\",\"gridcolor\":\"white\",\"linecolor\":\"white\",\"minorgridcolor\":\"white\",\"startlinecolor\":\"#2a3f5f\"},\"baxis\":{\"endlinecolor\":\"#2a3f5f\",\"gridcolor\":\"white\",\"linecolor\":\"white\",\"minorgridcolor\":\"white\",\"startlinecolor\":\"#2a3f5f\"},\"type\":\"carpet\"}],\"table\":[{\"cells\":{\"fill\":{\"color\":\"#EBF0F8\"},\"line\":{\"color\":\"white\"}},\"header\":{\"fill\":{\"color\":\"#C8D4E3\"},\"line\":{\"color\":\"white\"}},\"type\":\"table\"}],\"barpolar\":[{\"marker\":{\"line\":{\"color\":\"#E5ECF6\",\"width\":0.5},\"pattern\":{\"fillmode\":\"overlay\",\"size\":10,\"solidity\":0.2}},\"type\":\"barpolar\"}],\"pie\":[{\"automargin\":true,\"type\":\"pie\"}]},\"layout\":{\"autotypenumbers\":\"strict\",\"colorway\":[\"#636efa\",\"#EF553B\",\"#00cc96\",\"#ab63fa\",\"#FFA15A\",\"#19d3f3\",\"#FF6692\",\"#B6E880\",\"#FF97FF\",\"#FECB52\"],\"font\":{\"color\":\"#2a3f5f\"},\"hovermode\":\"closest\",\"hoverlabel\":{\"align\":\"left\"},\"paper_bgcolor\":\"white\",\"plot_bgcolor\":\"#E5ECF6\",\"polar\":{\"bgcolor\":\"#E5ECF6\",\"angularaxis\":{\"gridcolor\":\"white\",\"linecolor\":\"white\",\"ticks\":\"\"},\"radialaxis\":{\"gridcolor\":\"white\",\"linecolor\":\"white\",\"ticks\":\"\"}},\"ternary\":{\"bgcolor\":\"#E5ECF6\",\"aaxis\":{\"gridcolor\":\"white\",\"linecolor\":\"white\",\"ticks\":\"\"},\"baxis\":{\"gridcolor\":\"white\",\"linecolor\":\"white\",\"ticks\":\"\"},\"caxis\":{\"gridcolor\":\"white\",\"linecolor\":\"white\",\"ticks\":\"\"}},\"coloraxis\":{\"colorbar\":{\"outlinewidth\":0,\"ticks\":\"\"}},\"colorscale\":{\"sequential\":[[0.0,\"#0d0887\"],[0.1111111111111111,\"#46039f\"],[0.2222222222222222,\"#7201a8\"],[0.3333333333333333,\"#9c179e\"],[0.4444444444444444,\"#bd3786\"],[0.5555555555555556,\"#d8576b\"],[0.6666666666666666,\"#ed7953\"],[0.7777777777777778,\"#fb9f3a\"],[0.8888888888888888,\"#fdca26\"],[1.0,\"#f0f921\"]],\"sequentialminus\":[[0.0,\"#0d0887\"],[0.1111111111111111,\"#46039f\"],[0.2222222222222222,\"#7201a8\"],[0.3333333333333333,\"#9c179e\"],[0.4444444444444444,\"#bd3786\"],[0.5555555555555556,\"#d8576b\"],[0.6666666666666666,\"#ed7953\"],[0.7777777777777778,\"#fb9f3a\"],[0.8888888888888888,\"#fdca26\"],[1.0,\"#f0f921\"]],\"diverging\":[[0,\"#8e0152\"],[0.1,\"#c51b7d\"],[0.2,\"#de77ae\"],[0.3,\"#f1b6da\"],[0.4,\"#fde0ef\"],[0.5,\"#f7f7f7\"],[0.6,\"#e6f5d0\"],[0.7,\"#b8e186\"],[0.8,\"#7fbc41\"],[0.9,\"#4d9221\"],[1,\"#276419\"]]},\"xaxis\":{\"gridcolor\":\"white\",\"linecolor\":\"white\",\"ticks\":\"\",\"title\":{\"standoff\":15},\"zerolinecolor\":\"white\",\"automargin\":true,\"zerolinewidth\":2},\"yaxis\":{\"gridcolor\":\"white\",\"linecolor\":\"white\",\"ticks\":\"\",\"title\":{\"standoff\":15},\"zerolinecolor\":\"white\",\"automargin\":true,\"zerolinewidth\":2},\"scene\":{\"xaxis\":{\"backgroundcolor\":\"#E5ECF6\",\"gridcolor\":\"white\",\"linecolor\":\"white\",\"showbackground\":true,\"ticks\":\"\",\"zerolinecolor\":\"white\",\"gridwidth\":2},\"yaxis\":{\"backgroundcolor\":\"#E5ECF6\",\"gridcolor\":\"white\",\"linecolor\":\"white\",\"showbackground\":true,\"ticks\":\"\",\"zerolinecolor\":\"white\",\"gridwidth\":2},\"zaxis\":{\"backgroundcolor\":\"#E5ECF6\",\"gridcolor\":\"white\",\"linecolor\":\"white\",\"showbackground\":true,\"ticks\":\"\",\"zerolinecolor\":\"white\",\"gridwidth\":2}},\"shapedefaults\":{\"line\":{\"color\":\"#2a3f5f\"}},\"annotationdefaults\":{\"arrowcolor\":\"#2a3f5f\",\"arrowhead\":0,\"arrowwidth\":1},\"geo\":{\"bgcolor\":\"white\",\"landcolor\":\"#E5ECF6\",\"subunitcolor\":\"white\",\"showland\":true,\"showlakes\":true,\"lakecolor\":\"white\"},\"title\":{\"x\":0.05},\"mapbox\":{\"style\":\"light\"}}}},                        {\"responsive\": true}                    ).then(function(){\n",
              "                            \n",
              "var gd = document.getElementById('410bc73c-af2f-42cb-b98c-4cbb0bce2df8');\n",
              "var x = new MutationObserver(function (mutations, observer) {{\n",
              "        var display = window.getComputedStyle(gd).display;\n",
              "        if (!display || display === 'none') {{\n",
              "            console.log([gd, 'removed!']);\n",
              "            Plotly.purge(gd);\n",
              "            observer.disconnect();\n",
              "        }}\n",
              "}});\n",
              "\n",
              "// Listen for the removal of the full notebook cells\n",
              "var notebookContainer = gd.closest('#notebook-container');\n",
              "if (notebookContainer) {{\n",
              "    x.observe(notebookContainer, {childList: true});\n",
              "}}\n",
              "\n",
              "// Listen for the clearing of the current output cell\n",
              "var outputEl = gd.closest('.output');\n",
              "if (outputEl) {{\n",
              "    x.observe(outputEl, {childList: true});\n",
              "}}\n",
              "\n",
              "                        })                };                            </script>        </div>\n",
              "</body>\n",
              "</html>"
            ]
          },
          "metadata": {}
        }
      ]
    },
    {
      "cell_type": "markdown",
      "source": [
        "O gráfico apresenta a mediana dos preços por noite e por hóspede para cada localização em Recife. Ele utiliza barras para comparar os valores em diferentes áreas da cidade. A barra verde representa o preço mediano por noite, enquanto a barra roxa representa o preço mediano por hóspede. Esse gráfico é eficaz para os viajantes entenderem as diferenças de custo entre as localizações e planejarem suas estadias de acordo com suas preferências e orçamento."
      ],
      "metadata": {
        "id": "rhzcOoFG8Nnh"
      }
    },
    {
      "cell_type": "markdown",
      "source": [],
      "metadata": {
        "id": "T537PR0hHW-6"
      }
    },
    {
      "cell_type": "code",
      "source": [
        "# Proporção de preço pago por hospede\n",
        "rate_night_price_guest = round((sorted_prices_guest / median_night_prices)*100, 2)\n",
        "rate_night_price_guest"
      ],
      "metadata": {
        "colab": {
          "base_uri": "https://localhost:8080/"
        },
        "id": "WXD4nsiFIhK5",
        "outputId": "86947f39-97ad-4f43-931f-af2648ad1573"
      },
      "execution_count": null,
      "outputs": [
        {
          "output_type": "execute_result",
          "data": {
            "text/plain": [
              "stand address\n",
              "Boa Viagem    24.61\n",
              "Graças        25.00\n",
              "Recife        26.64\n",
              "Boa Vista     45.66\n",
              "Várzea        63.68\n",
              "dtype: float64"
            ]
          },
          "metadata": {},
          "execution_count": 57
        }
      ]
    },
    {
      "cell_type": "markdown",
      "source": [
        "Nota-se que as hospedagens do bairro das Graças possui uma proporção de preço pago por hóspede maior do que o bairro do Recife. Isso pode ser influenciado pela quantidade de hosédagens em cada um dos bairros. Recife possui 64 e Graças apenas 6. Note também que Graças possui a segunda maior média de preços por noite e também por hóspedes. É possível que a medida que o bairro possua mais locais disponíveis para locação, a discrepância de preços pago por noite e por hóspede diminua."
      ],
      "metadata": {
        "id": "t4dqypZuJB6G"
      }
    },
    {
      "cell_type": "markdown",
      "source": [
        "### Mediana de preços por noite e por hóspedes para cada tipo de hospedagem para os bairros mais comuns"
      ],
      "metadata": {
        "id": "mDqIxsAoLE_0"
      }
    },
    {
      "cell_type": "markdown",
      "source": [
        "Análise"
      ],
      "metadata": {
        "id": "yEtqBuMyX17J"
      }
    },
    {
      "cell_type": "code",
      "source": [
        "median_type_prices = round(df_rec.loc[df_rec['stand address'].isin(com_address.index)].groupby(\n",
        "                           df_rec['roomType'])['price per night'].median().sort_values(ascending=False), 3)\n",
        "median_type_prices"
      ],
      "metadata": {
        "colab": {
          "base_uri": "https://localhost:8080/"
        },
        "id": "2Y1atOgJLyzl",
        "outputId": "022f9fdb-e2ba-4882-daad-285dcb9d7993"
      },
      "execution_count": null,
      "outputs": [
        {
          "output_type": "execute_result",
          "data": {
            "text/plain": [
              "roomType\n",
              "Private room in condo                 25000.000\n",
              "Room in hotel                          9999.000\n",
              "Shared room in rental unit             3423.667\n",
              "Ranch                                  1369.333\n",
              "Entire home                             620.000\n",
              "Entire rental unit                      383.333\n",
              "Private room in home                    373.167\n",
              "Entire condo                            326.000\n",
              "Entire serviced apartment               313.000\n",
              "Entire loft                             312.000\n",
              "Private room in serviced apartment      258.667\n",
              "Private room in rental unit             106.667\n",
              "Private room in guest suite              74.333\n",
              "Entire guesthouse                        68.333\n",
              "Shared room in bed and breakfast         62.667\n",
              "Shared room in hostel                    56.000\n",
              "Name: price per night, dtype: float64"
            ]
          },
          "metadata": {},
          "execution_count": 62
        }
      ]
    },
    {
      "cell_type": "markdown",
      "source": [
        "Essa informação apresenta a mediana dos preços por tipo de quarto para as localizações mais comuns em Recife. O resultado mostra diferentes categorias de quartos, como quartos privados em condomínio, quartos em hotéis, quartos compartilhados em unidades de aluguel, entre outros. Os preços variam entre as categorias, o que pode ser útil para viajantes que desejam selecionar o tipo de acomodação mais adequado para suas necessidades e orçamento."
      ],
      "metadata": {
        "id": "kKAJQOYl8Smw"
      }
    },
    {
      "cell_type": "code",
      "source": [
        "median_type_guest = round(df_rec.loc[df_rec['stand address'].isin(com_address.index)].groupby(\n",
        "                           df_rec['roomType'])['price per guest'].median().reindex(median_type_prices.index), 3)\n",
        "median_type_guest"
      ],
      "metadata": {
        "colab": {
          "base_uri": "https://localhost:8080/"
        },
        "id": "N0j3Msc2O4me",
        "outputId": "8bee10e9-9808-4afc-f8d2-3a1e3379a83b"
      },
      "execution_count": null,
      "outputs": [
        {
          "output_type": "execute_result",
          "data": {
            "text/plain": [
              "roomType\n",
              "Private room in condo                 8333.333\n",
              "Room in hotel                         2499.750\n",
              "Shared room in rental unit             228.244\n",
              "Ranch                                  171.167\n",
              "Entire home                            124.000\n",
              "Entire rental unit                      83.333\n",
              "Private room in home                   116.417\n",
              "Entire condo                            76.067\n",
              "Entire serviced apartment               88.917\n",
              "Entire loft                            156.000\n",
              "Private room in serviced apartment     107.611\n",
              "Private room in rental unit             57.000\n",
              "Private room in guest suite             37.167\n",
              "Entire guesthouse                       68.333\n",
              "Shared room in bed and breakfast         6.963\n",
              "Shared room in hostel                    3.733\n",
              "Name: price per guest, dtype: float64"
            ]
          },
          "metadata": {},
          "execution_count": 64
        }
      ]
    },
    {
      "cell_type": "markdown",
      "source": [
        "O código apresenta a mediana dos preços por hóspede para diferentes categorias de quartos nas localizações mais comuns em Recife. Os valores mostram quanto cada tipo de quarto custa em média por hóspede, permitindo que os viajantes entendam o custo relativo de diferentes opções de acomodação."
      ],
      "metadata": {
        "id": "qJRSWLDQ8WDO"
      }
    },
    {
      "cell_type": "markdown",
      "source": [
        "Gráfico 1"
      ],
      "metadata": {
        "id": "RZEjN3uUXtwz"
      }
    },
    {
      "cell_type": "code",
      "source": [
        "# Horizontal bar\n",
        "trace1 = go.Bar(\n",
        "        x=median_type_prices.values, y=median_type_prices.index,\n",
        "        name='Preço médio',\n",
        "        marker_color='rgb(27, 158, 119)', orientation='h',\n",
        "        text=median_type_prices.values, textposition='outside'\n",
        "        )\n",
        "\n",
        "trace2 = go.Bar(\n",
        "        x=median_type_guest.values, y=median_type_guest.index,\n",
        "        name='Preço médio por hóspede',\n",
        "        marker_color='rgb(117,112,179)', orientation='h',\n",
        "        text=median_type_guest.values, textposition='outside'\n",
        "        )\n",
        "\n",
        "layout = go.Layout(\n",
        "    title='Mediana de preços por noite e por hóspede para cada tipo de hospedagem', title_x=0.45,\n",
        "    yaxis=dict(title='Tipo de Hospedagem', titlefont_size=16, tickfont_size=14,\n",
        "               showline=True, linewidth=1, linecolor='black'),\n",
        "    xaxis=dict(title='Preço Médio Por Noite (R$)', titlefont_size=16, tickfont_size=14,\n",
        "               showline=True, linewidth=1, linecolor='black', type='linear',  # Altera o tipo do eixo para linear\n",
        "               dtick=2500),\n",
        "    legend=dict(x=0.60, y=1.0, bgcolor='rgba(255, 255, 255, 0)', bordercolor='rgba(255, 255, 255, 0)'),\n",
        "    barmode='group', bargap=0.15, bargroupgap=0.1, plot_bgcolor='white', height=800, width=1300\n",
        "    )\n",
        "\n",
        "traces = [trace1, trace2]\n",
        "\n",
        "# Create the figure with all the boxplot traces\n",
        "fig = go.Figure(data=traces, layout=layout)\n",
        "\n",
        "# Show the figure\n",
        "fig.show()"
      ],
      "metadata": {
        "colab": {
          "base_uri": "https://localhost:8080/",
          "height": 837
        },
        "id": "afCTV6i8PP3-",
        "outputId": "3962ee86-2389-493d-b424-313ab479cdfd"
      },
      "execution_count": null,
      "outputs": [
        {
          "output_type": "display_data",
          "data": {
            "text/html": [
              "<html>\n",
              "<head><meta charset=\"utf-8\" /></head>\n",
              "<body>\n",
              "    <div>            <script src=\"https://cdnjs.cloudflare.com/ajax/libs/mathjax/2.7.5/MathJax.js?config=TeX-AMS-MML_SVG\"></script><script type=\"text/javascript\">if (window.MathJax && window.MathJax.Hub && window.MathJax.Hub.Config) {window.MathJax.Hub.Config({SVG: {font: \"STIX-Web\"}});}</script>                <script type=\"text/javascript\">window.PlotlyConfig = {MathJaxConfig: 'local'};</script>\n",
              "        <script src=\"https://cdn.plot.ly/plotly-2.18.2.min.js\"></script>                <div id=\"214f88d1-e68b-41e1-90f7-39646afe6ab2\" class=\"plotly-graph-div\" style=\"height:800px; width:1300px;\"></div>            <script type=\"text/javascript\">                                    window.PLOTLYENV=window.PLOTLYENV || {};                                    if (document.getElementById(\"214f88d1-e68b-41e1-90f7-39646afe6ab2\")) {                    Plotly.newPlot(                        \"214f88d1-e68b-41e1-90f7-39646afe6ab2\",                        [{\"marker\":{\"color\":\"rgb(27, 158, 119)\"},\"name\":\"Pre\\u00e7o m\\u00e9dio\",\"orientation\":\"h\",\"text\":[25000.0,9999.0,3423.667,1369.333,620.0,383.333,373.167,326.0,313.0,312.0,258.667,106.667,74.333,68.333,62.667,56.0],\"textposition\":\"outside\",\"x\":[25000.0,9999.0,3423.667,1369.333,620.0,383.333,373.167,326.0,313.0,312.0,258.667,106.667,74.333,68.333,62.667,56.0],\"y\":[\"Private room in condo\",\"Room in hotel\",\"Shared room in rental unit\",\"Ranch\",\"Entire home\",\"Entire rental unit\",\"Private room in home\",\"Entire condo\",\"Entire serviced apartment\",\"Entire loft\",\"Private room in serviced apartment\",\"Private room in rental unit\",\"Private room in guest suite\",\"Entire guesthouse\",\"Shared room in bed and breakfast\",\"Shared room in hostel\"],\"type\":\"bar\"},{\"marker\":{\"color\":\"rgb(117,112,179)\"},\"name\":\"Pre\\u00e7o m\\u00e9dio por h\\u00f3spede\",\"orientation\":\"h\",\"text\":[8333.333,2499.75,228.244,171.167,124.0,83.333,116.417,76.067,88.917,156.0,107.611,57.0,37.167,68.333,6.963,3.733],\"textposition\":\"outside\",\"x\":[8333.333,2499.75,228.244,171.167,124.0,83.333,116.417,76.067,88.917,156.0,107.611,57.0,37.167,68.333,6.963,3.733],\"y\":[\"Private room in condo\",\"Room in hotel\",\"Shared room in rental unit\",\"Ranch\",\"Entire home\",\"Entire rental unit\",\"Private room in home\",\"Entire condo\",\"Entire serviced apartment\",\"Entire loft\",\"Private room in serviced apartment\",\"Private room in rental unit\",\"Private room in guest suite\",\"Entire guesthouse\",\"Shared room in bed and breakfast\",\"Shared room in hostel\"],\"type\":\"bar\"}],                        {\"bargap\":0.15,\"bargroupgap\":0.1,\"barmode\":\"group\",\"height\":800,\"legend\":{\"bgcolor\":\"rgba(255, 255, 255, 0)\",\"bordercolor\":\"rgba(255, 255, 255, 0)\",\"x\":0.6,\"y\":1.0},\"plot_bgcolor\":\"white\",\"title\":{\"text\":\"Mediana de pre\\u00e7os por noite e por h\\u00f3spede para cada tipo de hospedagem\",\"x\":0.45},\"width\":1300,\"xaxis\":{\"dtick\":2500,\"linecolor\":\"black\",\"linewidth\":1,\"showline\":true,\"tickfont\":{\"size\":14},\"title\":{\"font\":{\"size\":16},\"text\":\"Pre\\u00e7o M\\u00e9dio Por Noite (R$)\"},\"type\":\"linear\"},\"yaxis\":{\"linecolor\":\"black\",\"linewidth\":1,\"showline\":true,\"tickfont\":{\"size\":14},\"title\":{\"font\":{\"size\":16},\"text\":\"Tipo de Hospedagem\"}},\"template\":{\"data\":{\"histogram2dcontour\":[{\"type\":\"histogram2dcontour\",\"colorbar\":{\"outlinewidth\":0,\"ticks\":\"\"},\"colorscale\":[[0.0,\"#0d0887\"],[0.1111111111111111,\"#46039f\"],[0.2222222222222222,\"#7201a8\"],[0.3333333333333333,\"#9c179e\"],[0.4444444444444444,\"#bd3786\"],[0.5555555555555556,\"#d8576b\"],[0.6666666666666666,\"#ed7953\"],[0.7777777777777778,\"#fb9f3a\"],[0.8888888888888888,\"#fdca26\"],[1.0,\"#f0f921\"]]}],\"choropleth\":[{\"type\":\"choropleth\",\"colorbar\":{\"outlinewidth\":0,\"ticks\":\"\"}}],\"histogram2d\":[{\"type\":\"histogram2d\",\"colorbar\":{\"outlinewidth\":0,\"ticks\":\"\"},\"colorscale\":[[0.0,\"#0d0887\"],[0.1111111111111111,\"#46039f\"],[0.2222222222222222,\"#7201a8\"],[0.3333333333333333,\"#9c179e\"],[0.4444444444444444,\"#bd3786\"],[0.5555555555555556,\"#d8576b\"],[0.6666666666666666,\"#ed7953\"],[0.7777777777777778,\"#fb9f3a\"],[0.8888888888888888,\"#fdca26\"],[1.0,\"#f0f921\"]]}],\"heatmap\":[{\"type\":\"heatmap\",\"colorbar\":{\"outlinewidth\":0,\"ticks\":\"\"},\"colorscale\":[[0.0,\"#0d0887\"],[0.1111111111111111,\"#46039f\"],[0.2222222222222222,\"#7201a8\"],[0.3333333333333333,\"#9c179e\"],[0.4444444444444444,\"#bd3786\"],[0.5555555555555556,\"#d8576b\"],[0.6666666666666666,\"#ed7953\"],[0.7777777777777778,\"#fb9f3a\"],[0.8888888888888888,\"#fdca26\"],[1.0,\"#f0f921\"]]}],\"heatmapgl\":[{\"type\":\"heatmapgl\",\"colorbar\":{\"outlinewidth\":0,\"ticks\":\"\"},\"colorscale\":[[0.0,\"#0d0887\"],[0.1111111111111111,\"#46039f\"],[0.2222222222222222,\"#7201a8\"],[0.3333333333333333,\"#9c179e\"],[0.4444444444444444,\"#bd3786\"],[0.5555555555555556,\"#d8576b\"],[0.6666666666666666,\"#ed7953\"],[0.7777777777777778,\"#fb9f3a\"],[0.8888888888888888,\"#fdca26\"],[1.0,\"#f0f921\"]]}],\"contourcarpet\":[{\"type\":\"contourcarpet\",\"colorbar\":{\"outlinewidth\":0,\"ticks\":\"\"}}],\"contour\":[{\"type\":\"contour\",\"colorbar\":{\"outlinewidth\":0,\"ticks\":\"\"},\"colorscale\":[[0.0,\"#0d0887\"],[0.1111111111111111,\"#46039f\"],[0.2222222222222222,\"#7201a8\"],[0.3333333333333333,\"#9c179e\"],[0.4444444444444444,\"#bd3786\"],[0.5555555555555556,\"#d8576b\"],[0.6666666666666666,\"#ed7953\"],[0.7777777777777778,\"#fb9f3a\"],[0.8888888888888888,\"#fdca26\"],[1.0,\"#f0f921\"]]}],\"surface\":[{\"type\":\"surface\",\"colorbar\":{\"outlinewidth\":0,\"ticks\":\"\"},\"colorscale\":[[0.0,\"#0d0887\"],[0.1111111111111111,\"#46039f\"],[0.2222222222222222,\"#7201a8\"],[0.3333333333333333,\"#9c179e\"],[0.4444444444444444,\"#bd3786\"],[0.5555555555555556,\"#d8576b\"],[0.6666666666666666,\"#ed7953\"],[0.7777777777777778,\"#fb9f3a\"],[0.8888888888888888,\"#fdca26\"],[1.0,\"#f0f921\"]]}],\"mesh3d\":[{\"type\":\"mesh3d\",\"colorbar\":{\"outlinewidth\":0,\"ticks\":\"\"}}],\"scatter\":[{\"fillpattern\":{\"fillmode\":\"overlay\",\"size\":10,\"solidity\":0.2},\"type\":\"scatter\"}],\"parcoords\":[{\"type\":\"parcoords\",\"line\":{\"colorbar\":{\"outlinewidth\":0,\"ticks\":\"\"}}}],\"scatterpolargl\":[{\"type\":\"scatterpolargl\",\"marker\":{\"colorbar\":{\"outlinewidth\":0,\"ticks\":\"\"}}}],\"bar\":[{\"error_x\":{\"color\":\"#2a3f5f\"},\"error_y\":{\"color\":\"#2a3f5f\"},\"marker\":{\"line\":{\"color\":\"#E5ECF6\",\"width\":0.5},\"pattern\":{\"fillmode\":\"overlay\",\"size\":10,\"solidity\":0.2}},\"type\":\"bar\"}],\"scattergeo\":[{\"type\":\"scattergeo\",\"marker\":{\"colorbar\":{\"outlinewidth\":0,\"ticks\":\"\"}}}],\"scatterpolar\":[{\"type\":\"scatterpolar\",\"marker\":{\"colorbar\":{\"outlinewidth\":0,\"ticks\":\"\"}}}],\"histogram\":[{\"marker\":{\"pattern\":{\"fillmode\":\"overlay\",\"size\":10,\"solidity\":0.2}},\"type\":\"histogram\"}],\"scattergl\":[{\"type\":\"scattergl\",\"marker\":{\"colorbar\":{\"outlinewidth\":0,\"ticks\":\"\"}}}],\"scatter3d\":[{\"type\":\"scatter3d\",\"line\":{\"colorbar\":{\"outlinewidth\":0,\"ticks\":\"\"}},\"marker\":{\"colorbar\":{\"outlinewidth\":0,\"ticks\":\"\"}}}],\"scattermapbox\":[{\"type\":\"scattermapbox\",\"marker\":{\"colorbar\":{\"outlinewidth\":0,\"ticks\":\"\"}}}],\"scatterternary\":[{\"type\":\"scatterternary\",\"marker\":{\"colorbar\":{\"outlinewidth\":0,\"ticks\":\"\"}}}],\"scattercarpet\":[{\"type\":\"scattercarpet\",\"marker\":{\"colorbar\":{\"outlinewidth\":0,\"ticks\":\"\"}}}],\"carpet\":[{\"aaxis\":{\"endlinecolor\":\"#2a3f5f\",\"gridcolor\":\"white\",\"linecolor\":\"white\",\"minorgridcolor\":\"white\",\"startlinecolor\":\"#2a3f5f\"},\"baxis\":{\"endlinecolor\":\"#2a3f5f\",\"gridcolor\":\"white\",\"linecolor\":\"white\",\"minorgridcolor\":\"white\",\"startlinecolor\":\"#2a3f5f\"},\"type\":\"carpet\"}],\"table\":[{\"cells\":{\"fill\":{\"color\":\"#EBF0F8\"},\"line\":{\"color\":\"white\"}},\"header\":{\"fill\":{\"color\":\"#C8D4E3\"},\"line\":{\"color\":\"white\"}},\"type\":\"table\"}],\"barpolar\":[{\"marker\":{\"line\":{\"color\":\"#E5ECF6\",\"width\":0.5},\"pattern\":{\"fillmode\":\"overlay\",\"size\":10,\"solidity\":0.2}},\"type\":\"barpolar\"}],\"pie\":[{\"automargin\":true,\"type\":\"pie\"}]},\"layout\":{\"autotypenumbers\":\"strict\",\"colorway\":[\"#636efa\",\"#EF553B\",\"#00cc96\",\"#ab63fa\",\"#FFA15A\",\"#19d3f3\",\"#FF6692\",\"#B6E880\",\"#FF97FF\",\"#FECB52\"],\"font\":{\"color\":\"#2a3f5f\"},\"hovermode\":\"closest\",\"hoverlabel\":{\"align\":\"left\"},\"paper_bgcolor\":\"white\",\"plot_bgcolor\":\"#E5ECF6\",\"polar\":{\"bgcolor\":\"#E5ECF6\",\"angularaxis\":{\"gridcolor\":\"white\",\"linecolor\":\"white\",\"ticks\":\"\"},\"radialaxis\":{\"gridcolor\":\"white\",\"linecolor\":\"white\",\"ticks\":\"\"}},\"ternary\":{\"bgcolor\":\"#E5ECF6\",\"aaxis\":{\"gridcolor\":\"white\",\"linecolor\":\"white\",\"ticks\":\"\"},\"baxis\":{\"gridcolor\":\"white\",\"linecolor\":\"white\",\"ticks\":\"\"},\"caxis\":{\"gridcolor\":\"white\",\"linecolor\":\"white\",\"ticks\":\"\"}},\"coloraxis\":{\"colorbar\":{\"outlinewidth\":0,\"ticks\":\"\"}},\"colorscale\":{\"sequential\":[[0.0,\"#0d0887\"],[0.1111111111111111,\"#46039f\"],[0.2222222222222222,\"#7201a8\"],[0.3333333333333333,\"#9c179e\"],[0.4444444444444444,\"#bd3786\"],[0.5555555555555556,\"#d8576b\"],[0.6666666666666666,\"#ed7953\"],[0.7777777777777778,\"#fb9f3a\"],[0.8888888888888888,\"#fdca26\"],[1.0,\"#f0f921\"]],\"sequentialminus\":[[0.0,\"#0d0887\"],[0.1111111111111111,\"#46039f\"],[0.2222222222222222,\"#7201a8\"],[0.3333333333333333,\"#9c179e\"],[0.4444444444444444,\"#bd3786\"],[0.5555555555555556,\"#d8576b\"],[0.6666666666666666,\"#ed7953\"],[0.7777777777777778,\"#fb9f3a\"],[0.8888888888888888,\"#fdca26\"],[1.0,\"#f0f921\"]],\"diverging\":[[0,\"#8e0152\"],[0.1,\"#c51b7d\"],[0.2,\"#de77ae\"],[0.3,\"#f1b6da\"],[0.4,\"#fde0ef\"],[0.5,\"#f7f7f7\"],[0.6,\"#e6f5d0\"],[0.7,\"#b8e186\"],[0.8,\"#7fbc41\"],[0.9,\"#4d9221\"],[1,\"#276419\"]]},\"xaxis\":{\"gridcolor\":\"white\",\"linecolor\":\"white\",\"ticks\":\"\",\"title\":{\"standoff\":15},\"zerolinecolor\":\"white\",\"automargin\":true,\"zerolinewidth\":2},\"yaxis\":{\"gridcolor\":\"white\",\"linecolor\":\"white\",\"ticks\":\"\",\"title\":{\"standoff\":15},\"zerolinecolor\":\"white\",\"automargin\":true,\"zerolinewidth\":2},\"scene\":{\"xaxis\":{\"backgroundcolor\":\"#E5ECF6\",\"gridcolor\":\"white\",\"linecolor\":\"white\",\"showbackground\":true,\"ticks\":\"\",\"zerolinecolor\":\"white\",\"gridwidth\":2},\"yaxis\":{\"backgroundcolor\":\"#E5ECF6\",\"gridcolor\":\"white\",\"linecolor\":\"white\",\"showbackground\":true,\"ticks\":\"\",\"zerolinecolor\":\"white\",\"gridwidth\":2},\"zaxis\":{\"backgroundcolor\":\"#E5ECF6\",\"gridcolor\":\"white\",\"linecolor\":\"white\",\"showbackground\":true,\"ticks\":\"\",\"zerolinecolor\":\"white\",\"gridwidth\":2}},\"shapedefaults\":{\"line\":{\"color\":\"#2a3f5f\"}},\"annotationdefaults\":{\"arrowcolor\":\"#2a3f5f\",\"arrowhead\":0,\"arrowwidth\":1},\"geo\":{\"bgcolor\":\"white\",\"landcolor\":\"#E5ECF6\",\"subunitcolor\":\"white\",\"showland\":true,\"showlakes\":true,\"lakecolor\":\"white\"},\"title\":{\"x\":0.05},\"mapbox\":{\"style\":\"light\"}}}},                        {\"responsive\": true}                    ).then(function(){\n",
              "                            \n",
              "var gd = document.getElementById('214f88d1-e68b-41e1-90f7-39646afe6ab2');\n",
              "var x = new MutationObserver(function (mutations, observer) {{\n",
              "        var display = window.getComputedStyle(gd).display;\n",
              "        if (!display || display === 'none') {{\n",
              "            console.log([gd, 'removed!']);\n",
              "            Plotly.purge(gd);\n",
              "            observer.disconnect();\n",
              "        }}\n",
              "}});\n",
              "\n",
              "// Listen for the removal of the full notebook cells\n",
              "var notebookContainer = gd.closest('#notebook-container');\n",
              "if (notebookContainer) {{\n",
              "    x.observe(notebookContainer, {childList: true});\n",
              "}}\n",
              "\n",
              "// Listen for the clearing of the current output cell\n",
              "var outputEl = gd.closest('.output');\n",
              "if (outputEl) {{\n",
              "    x.observe(outputEl, {childList: true});\n",
              "}}\n",
              "\n",
              "                        })                };                            </script>        </div>\n",
              "</body>\n",
              "</html>"
            ]
          },
          "metadata": {}
        }
      ]
    },
    {
      "cell_type": "markdown",
      "source": [
        "Análise"
      ],
      "metadata": {
        "id": "txvRAMeFX5J4"
      }
    },
    {
      "cell_type": "code",
      "source": [
        "# tipos mais comuns dos bairros mais comuns\n",
        "com_type = df_rec.loc[df_rec['stand address'].isin(com_address.index)]['roomType'].value_counts().head(5)\n",
        "com_type"
      ],
      "metadata": {
        "colab": {
          "base_uri": "https://localhost:8080/"
        },
        "id": "LTr8AXSxSekD",
        "outputId": "cb449fb3-7fec-4ab9-c3e0-6e5078bd2ae8"
      },
      "execution_count": null,
      "outputs": [
        {
          "output_type": "execute_result",
          "data": {
            "text/plain": [
              "Entire rental unit             77\n",
              "Entire serviced apartment      33\n",
              "Private room in rental unit    21\n",
              "Entire condo                   17\n",
              "Entire loft                     5\n",
              "Name: roomType, dtype: int64"
            ]
          },
          "metadata": {},
          "execution_count": 80
        }
      ]
    },
    {
      "cell_type": "markdown",
      "source": [
        "O código apresenta a mediana dos preços por hóspede para diferentes categorias de quartos nas localizações mais comuns em Recife. Os valores mostram quanto cada tipo de quarto custa em média por hóspede, permitindo que os viajantes entendam o custo relativo de diferentes opções de acomodação."
      ],
      "metadata": {
        "id": "u43nxeen8dEc"
      }
    },
    {
      "cell_type": "code",
      "source": [
        "median_com_type_night = median_type_prices.loc[com_type.index].sort_values(ascending=False)\n",
        "median_com_type_night"
      ],
      "metadata": {
        "colab": {
          "base_uri": "https://localhost:8080/"
        },
        "id": "DLOLRp8DWzJJ",
        "outputId": "c5222a88-3dae-4a56-a97e-3cf1a88de4bd"
      },
      "execution_count": null,
      "outputs": [
        {
          "output_type": "execute_result",
          "data": {
            "text/plain": [
              "Entire rental unit             383.333\n",
              "Entire condo                   326.000\n",
              "Entire serviced apartment      313.000\n",
              "Entire loft                    312.000\n",
              "Private room in rental unit    106.667\n",
              "Name: price per night, dtype: float64"
            ]
          },
          "metadata": {},
          "execution_count": 92
        }
      ]
    },
    {
      "cell_type": "markdown",
      "source": [
        "O código apresenta a mediana dos preços por noite para as categorias de quartos mais comuns em Recife. Os resultados mostram as cinco categorias de quartos mais frequentes, classificadas em ordem decrescente de preço mediano. Essas informações auxiliam os viajantes a entenderem a faixa de preços associada a cada tipo de acomodação nas áreas mais populares da cidade."
      ],
      "metadata": {
        "id": "LZFoYHdN8gIZ"
      }
    },
    {
      "cell_type": "code",
      "source": [
        "median_com_type_guest = median_type_guest.loc[com_type.index].reindex(median_com_type_night.index)\n",
        "median_com_type_guest"
      ],
      "metadata": {
        "colab": {
          "base_uri": "https://localhost:8080/"
        },
        "id": "JjJ3QemSXW8t",
        "outputId": "07298c15-6a7e-4b7e-c1e9-c0eeace4f356"
      },
      "execution_count": null,
      "outputs": [
        {
          "output_type": "execute_result",
          "data": {
            "text/plain": [
              "Entire rental unit              83.333\n",
              "Entire condo                    76.067\n",
              "Entire serviced apartment       88.917\n",
              "Entire loft                    156.000\n",
              "Private room in rental unit     57.000\n",
              "Name: price per guest, dtype: float64"
            ]
          },
          "metadata": {},
          "execution_count": 93
        }
      ]
    },
    {
      "cell_type": "markdown",
      "source": [
        "O código apresenta a mediana dos preços por hóspede para as categorias de quartos mais comuns em Recife, correspondentes aos tipos de quartos com os preços médios mais altos por noite. Os valores mostram os preços medianos por hóspede para \"Unidade de aluguel completa\", \"Condomínio inteiro\", \"Apartamento inteiro com serviços\", \"Loft inteiro\" e \"Quarto privado em unidade de aluguel\"."
      ],
      "metadata": {
        "id": "YwQsv-YT8lK1"
      }
    },
    {
      "cell_type": "markdown",
      "source": [
        "Gráfico 2"
      ],
      "metadata": {
        "id": "N76RujmZX8Vv"
      }
    },
    {
      "cell_type": "code",
      "source": [
        "# Horizontal bar\n",
        "trace1 = go.Bar(\n",
        "        x=median_com_type_night.values, y=median_com_type_night.index,\n",
        "        name='Preço médio',\n",
        "        marker_color='rgb(27, 158, 119)', orientation='h',\n",
        "        text=median_com_type_night.values, textposition='outside'\n",
        "        )\n",
        "\n",
        "trace2 = go.Bar(\n",
        "        x=median_com_type_guest.values, y=median_com_type_guest.index,\n",
        "        name='Preço médio por hóspede',\n",
        "        marker_color='rgb(117,112,179)', orientation='h',\n",
        "        text=median_com_type_guest.values, textposition='outside'\n",
        "        )\n",
        "\n",
        "layout = go.Layout(\n",
        "    title='Mediana de preços por noite e por hóspede para hospedagens mais comuns', title_x=0.45,\n",
        "    yaxis=dict(title='Tipo de Hospedagem', titlefont_size=16, tickfont_size=14,\n",
        "               showline=True, linewidth=1, linecolor='black'),\n",
        "    xaxis=dict(title='Preço Médio Por Noite (R$)', titlefont_size=16, tickfont_size=14,\n",
        "               showline=True, linewidth=1, linecolor='black', type='linear',  # Altera o tipo do eixo para linear\n",
        "               dtick=2500),\n",
        "    legend=dict(x=0.60, y=1.0, bgcolor='rgba(255, 255, 255, 0)', bordercolor='rgba(255, 255, 255, 0)'),\n",
        "    barmode='group', bargap=0.15, bargroupgap=0.1, plot_bgcolor='white', height=600, width=1100\n",
        "    )\n",
        "\n",
        "traces = [trace1, trace2]\n",
        "\n",
        "# Create the figure with all the boxplot traces\n",
        "fig = go.Figure(data=traces, layout=layout)\n",
        "\n",
        "# Show the figure\n",
        "fig.show()"
      ],
      "metadata": {
        "colab": {
          "base_uri": "https://localhost:8080/",
          "height": 617
        },
        "id": "JgFrUw6XX9tZ",
        "outputId": "7063f870-419f-4e31-84e6-2be400b03355"
      },
      "execution_count": null,
      "outputs": [
        {
          "output_type": "display_data",
          "data": {
            "text/html": [
              "<html>\n",
              "<head><meta charset=\"utf-8\" /></head>\n",
              "<body>\n",
              "    <div>            <script src=\"https://cdnjs.cloudflare.com/ajax/libs/mathjax/2.7.5/MathJax.js?config=TeX-AMS-MML_SVG\"></script><script type=\"text/javascript\">if (window.MathJax && window.MathJax.Hub && window.MathJax.Hub.Config) {window.MathJax.Hub.Config({SVG: {font: \"STIX-Web\"}});}</script>                <script type=\"text/javascript\">window.PlotlyConfig = {MathJaxConfig: 'local'};</script>\n",
              "        <script src=\"https://cdn.plot.ly/plotly-2.18.2.min.js\"></script>                <div id=\"cdb15d43-f282-438d-8b3d-a4a29b934177\" class=\"plotly-graph-div\" style=\"height:600px; width:1100px;\"></div>            <script type=\"text/javascript\">                                    window.PLOTLYENV=window.PLOTLYENV || {};                                    if (document.getElementById(\"cdb15d43-f282-438d-8b3d-a4a29b934177\")) {                    Plotly.newPlot(                        \"cdb15d43-f282-438d-8b3d-a4a29b934177\",                        [{\"marker\":{\"color\":\"rgb(27, 158, 119)\"},\"name\":\"Pre\\u00e7o m\\u00e9dio\",\"orientation\":\"h\",\"text\":[383.333,326.0,313.0,312.0,106.667],\"textposition\":\"outside\",\"x\":[383.333,326.0,313.0,312.0,106.667],\"y\":[\"Entire rental unit\",\"Entire condo\",\"Entire serviced apartment\",\"Entire loft\",\"Private room in rental unit\"],\"type\":\"bar\"},{\"marker\":{\"color\":\"rgb(117,112,179)\"},\"name\":\"Pre\\u00e7o m\\u00e9dio por h\\u00f3spede\",\"orientation\":\"h\",\"text\":[83.333,76.067,88.917,156.0,57.0],\"textposition\":\"outside\",\"x\":[83.333,76.067,88.917,156.0,57.0],\"y\":[\"Entire rental unit\",\"Entire condo\",\"Entire serviced apartment\",\"Entire loft\",\"Private room in rental unit\"],\"type\":\"bar\"}],                        {\"bargap\":0.15,\"bargroupgap\":0.1,\"barmode\":\"group\",\"height\":600,\"legend\":{\"bgcolor\":\"rgba(255, 255, 255, 0)\",\"bordercolor\":\"rgba(255, 255, 255, 0)\",\"x\":0.6,\"y\":1.0},\"plot_bgcolor\":\"white\",\"title\":{\"text\":\"Mediana de pre\\u00e7os por noite e por h\\u00f3spede para hospedagens mais comuns\",\"x\":0.45},\"width\":1100,\"xaxis\":{\"dtick\":2500,\"linecolor\":\"black\",\"linewidth\":1,\"showline\":true,\"tickfont\":{\"size\":14},\"title\":{\"font\":{\"size\":16},\"text\":\"Pre\\u00e7o M\\u00e9dio Por Noite (R$)\"},\"type\":\"linear\"},\"yaxis\":{\"linecolor\":\"black\",\"linewidth\":1,\"showline\":true,\"tickfont\":{\"size\":14},\"title\":{\"font\":{\"size\":16},\"text\":\"Tipo de Hospedagem\"}},\"template\":{\"data\":{\"histogram2dcontour\":[{\"type\":\"histogram2dcontour\",\"colorbar\":{\"outlinewidth\":0,\"ticks\":\"\"},\"colorscale\":[[0.0,\"#0d0887\"],[0.1111111111111111,\"#46039f\"],[0.2222222222222222,\"#7201a8\"],[0.3333333333333333,\"#9c179e\"],[0.4444444444444444,\"#bd3786\"],[0.5555555555555556,\"#d8576b\"],[0.6666666666666666,\"#ed7953\"],[0.7777777777777778,\"#fb9f3a\"],[0.8888888888888888,\"#fdca26\"],[1.0,\"#f0f921\"]]}],\"choropleth\":[{\"type\":\"choropleth\",\"colorbar\":{\"outlinewidth\":0,\"ticks\":\"\"}}],\"histogram2d\":[{\"type\":\"histogram2d\",\"colorbar\":{\"outlinewidth\":0,\"ticks\":\"\"},\"colorscale\":[[0.0,\"#0d0887\"],[0.1111111111111111,\"#46039f\"],[0.2222222222222222,\"#7201a8\"],[0.3333333333333333,\"#9c179e\"],[0.4444444444444444,\"#bd3786\"],[0.5555555555555556,\"#d8576b\"],[0.6666666666666666,\"#ed7953\"],[0.7777777777777778,\"#fb9f3a\"],[0.8888888888888888,\"#fdca26\"],[1.0,\"#f0f921\"]]}],\"heatmap\":[{\"type\":\"heatmap\",\"colorbar\":{\"outlinewidth\":0,\"ticks\":\"\"},\"colorscale\":[[0.0,\"#0d0887\"],[0.1111111111111111,\"#46039f\"],[0.2222222222222222,\"#7201a8\"],[0.3333333333333333,\"#9c179e\"],[0.4444444444444444,\"#bd3786\"],[0.5555555555555556,\"#d8576b\"],[0.6666666666666666,\"#ed7953\"],[0.7777777777777778,\"#fb9f3a\"],[0.8888888888888888,\"#fdca26\"],[1.0,\"#f0f921\"]]}],\"heatmapgl\":[{\"type\":\"heatmapgl\",\"colorbar\":{\"outlinewidth\":0,\"ticks\":\"\"},\"colorscale\":[[0.0,\"#0d0887\"],[0.1111111111111111,\"#46039f\"],[0.2222222222222222,\"#7201a8\"],[0.3333333333333333,\"#9c179e\"],[0.4444444444444444,\"#bd3786\"],[0.5555555555555556,\"#d8576b\"],[0.6666666666666666,\"#ed7953\"],[0.7777777777777778,\"#fb9f3a\"],[0.8888888888888888,\"#fdca26\"],[1.0,\"#f0f921\"]]}],\"contourcarpet\":[{\"type\":\"contourcarpet\",\"colorbar\":{\"outlinewidth\":0,\"ticks\":\"\"}}],\"contour\":[{\"type\":\"contour\",\"colorbar\":{\"outlinewidth\":0,\"ticks\":\"\"},\"colorscale\":[[0.0,\"#0d0887\"],[0.1111111111111111,\"#46039f\"],[0.2222222222222222,\"#7201a8\"],[0.3333333333333333,\"#9c179e\"],[0.4444444444444444,\"#bd3786\"],[0.5555555555555556,\"#d8576b\"],[0.6666666666666666,\"#ed7953\"],[0.7777777777777778,\"#fb9f3a\"],[0.8888888888888888,\"#fdca26\"],[1.0,\"#f0f921\"]]}],\"surface\":[{\"type\":\"surface\",\"colorbar\":{\"outlinewidth\":0,\"ticks\":\"\"},\"colorscale\":[[0.0,\"#0d0887\"],[0.1111111111111111,\"#46039f\"],[0.2222222222222222,\"#7201a8\"],[0.3333333333333333,\"#9c179e\"],[0.4444444444444444,\"#bd3786\"],[0.5555555555555556,\"#d8576b\"],[0.6666666666666666,\"#ed7953\"],[0.7777777777777778,\"#fb9f3a\"],[0.8888888888888888,\"#fdca26\"],[1.0,\"#f0f921\"]]}],\"mesh3d\":[{\"type\":\"mesh3d\",\"colorbar\":{\"outlinewidth\":0,\"ticks\":\"\"}}],\"scatter\":[{\"fillpattern\":{\"fillmode\":\"overlay\",\"size\":10,\"solidity\":0.2},\"type\":\"scatter\"}],\"parcoords\":[{\"type\":\"parcoords\",\"line\":{\"colorbar\":{\"outlinewidth\":0,\"ticks\":\"\"}}}],\"scatterpolargl\":[{\"type\":\"scatterpolargl\",\"marker\":{\"colorbar\":{\"outlinewidth\":0,\"ticks\":\"\"}}}],\"bar\":[{\"error_x\":{\"color\":\"#2a3f5f\"},\"error_y\":{\"color\":\"#2a3f5f\"},\"marker\":{\"line\":{\"color\":\"#E5ECF6\",\"width\":0.5},\"pattern\":{\"fillmode\":\"overlay\",\"size\":10,\"solidity\":0.2}},\"type\":\"bar\"}],\"scattergeo\":[{\"type\":\"scattergeo\",\"marker\":{\"colorbar\":{\"outlinewidth\":0,\"ticks\":\"\"}}}],\"scatterpolar\":[{\"type\":\"scatterpolar\",\"marker\":{\"colorbar\":{\"outlinewidth\":0,\"ticks\":\"\"}}}],\"histogram\":[{\"marker\":{\"pattern\":{\"fillmode\":\"overlay\",\"size\":10,\"solidity\":0.2}},\"type\":\"histogram\"}],\"scattergl\":[{\"type\":\"scattergl\",\"marker\":{\"colorbar\":{\"outlinewidth\":0,\"ticks\":\"\"}}}],\"scatter3d\":[{\"type\":\"scatter3d\",\"line\":{\"colorbar\":{\"outlinewidth\":0,\"ticks\":\"\"}},\"marker\":{\"colorbar\":{\"outlinewidth\":0,\"ticks\":\"\"}}}],\"scattermapbox\":[{\"type\":\"scattermapbox\",\"marker\":{\"colorbar\":{\"outlinewidth\":0,\"ticks\":\"\"}}}],\"scatterternary\":[{\"type\":\"scatterternary\",\"marker\":{\"colorbar\":{\"outlinewidth\":0,\"ticks\":\"\"}}}],\"scattercarpet\":[{\"type\":\"scattercarpet\",\"marker\":{\"colorbar\":{\"outlinewidth\":0,\"ticks\":\"\"}}}],\"carpet\":[{\"aaxis\":{\"endlinecolor\":\"#2a3f5f\",\"gridcolor\":\"white\",\"linecolor\":\"white\",\"minorgridcolor\":\"white\",\"startlinecolor\":\"#2a3f5f\"},\"baxis\":{\"endlinecolor\":\"#2a3f5f\",\"gridcolor\":\"white\",\"linecolor\":\"white\",\"minorgridcolor\":\"white\",\"startlinecolor\":\"#2a3f5f\"},\"type\":\"carpet\"}],\"table\":[{\"cells\":{\"fill\":{\"color\":\"#EBF0F8\"},\"line\":{\"color\":\"white\"}},\"header\":{\"fill\":{\"color\":\"#C8D4E3\"},\"line\":{\"color\":\"white\"}},\"type\":\"table\"}],\"barpolar\":[{\"marker\":{\"line\":{\"color\":\"#E5ECF6\",\"width\":0.5},\"pattern\":{\"fillmode\":\"overlay\",\"size\":10,\"solidity\":0.2}},\"type\":\"barpolar\"}],\"pie\":[{\"automargin\":true,\"type\":\"pie\"}]},\"layout\":{\"autotypenumbers\":\"strict\",\"colorway\":[\"#636efa\",\"#EF553B\",\"#00cc96\",\"#ab63fa\",\"#FFA15A\",\"#19d3f3\",\"#FF6692\",\"#B6E880\",\"#FF97FF\",\"#FECB52\"],\"font\":{\"color\":\"#2a3f5f\"},\"hovermode\":\"closest\",\"hoverlabel\":{\"align\":\"left\"},\"paper_bgcolor\":\"white\",\"plot_bgcolor\":\"#E5ECF6\",\"polar\":{\"bgcolor\":\"#E5ECF6\",\"angularaxis\":{\"gridcolor\":\"white\",\"linecolor\":\"white\",\"ticks\":\"\"},\"radialaxis\":{\"gridcolor\":\"white\",\"linecolor\":\"white\",\"ticks\":\"\"}},\"ternary\":{\"bgcolor\":\"#E5ECF6\",\"aaxis\":{\"gridcolor\":\"white\",\"linecolor\":\"white\",\"ticks\":\"\"},\"baxis\":{\"gridcolor\":\"white\",\"linecolor\":\"white\",\"ticks\":\"\"},\"caxis\":{\"gridcolor\":\"white\",\"linecolor\":\"white\",\"ticks\":\"\"}},\"coloraxis\":{\"colorbar\":{\"outlinewidth\":0,\"ticks\":\"\"}},\"colorscale\":{\"sequential\":[[0.0,\"#0d0887\"],[0.1111111111111111,\"#46039f\"],[0.2222222222222222,\"#7201a8\"],[0.3333333333333333,\"#9c179e\"],[0.4444444444444444,\"#bd3786\"],[0.5555555555555556,\"#d8576b\"],[0.6666666666666666,\"#ed7953\"],[0.7777777777777778,\"#fb9f3a\"],[0.8888888888888888,\"#fdca26\"],[1.0,\"#f0f921\"]],\"sequentialminus\":[[0.0,\"#0d0887\"],[0.1111111111111111,\"#46039f\"],[0.2222222222222222,\"#7201a8\"],[0.3333333333333333,\"#9c179e\"],[0.4444444444444444,\"#bd3786\"],[0.5555555555555556,\"#d8576b\"],[0.6666666666666666,\"#ed7953\"],[0.7777777777777778,\"#fb9f3a\"],[0.8888888888888888,\"#fdca26\"],[1.0,\"#f0f921\"]],\"diverging\":[[0,\"#8e0152\"],[0.1,\"#c51b7d\"],[0.2,\"#de77ae\"],[0.3,\"#f1b6da\"],[0.4,\"#fde0ef\"],[0.5,\"#f7f7f7\"],[0.6,\"#e6f5d0\"],[0.7,\"#b8e186\"],[0.8,\"#7fbc41\"],[0.9,\"#4d9221\"],[1,\"#276419\"]]},\"xaxis\":{\"gridcolor\":\"white\",\"linecolor\":\"white\",\"ticks\":\"\",\"title\":{\"standoff\":15},\"zerolinecolor\":\"white\",\"automargin\":true,\"zerolinewidth\":2},\"yaxis\":{\"gridcolor\":\"white\",\"linecolor\":\"white\",\"ticks\":\"\",\"title\":{\"standoff\":15},\"zerolinecolor\":\"white\",\"automargin\":true,\"zerolinewidth\":2},\"scene\":{\"xaxis\":{\"backgroundcolor\":\"#E5ECF6\",\"gridcolor\":\"white\",\"linecolor\":\"white\",\"showbackground\":true,\"ticks\":\"\",\"zerolinecolor\":\"white\",\"gridwidth\":2},\"yaxis\":{\"backgroundcolor\":\"#E5ECF6\",\"gridcolor\":\"white\",\"linecolor\":\"white\",\"showbackground\":true,\"ticks\":\"\",\"zerolinecolor\":\"white\",\"gridwidth\":2},\"zaxis\":{\"backgroundcolor\":\"#E5ECF6\",\"gridcolor\":\"white\",\"linecolor\":\"white\",\"showbackground\":true,\"ticks\":\"\",\"zerolinecolor\":\"white\",\"gridwidth\":2}},\"shapedefaults\":{\"line\":{\"color\":\"#2a3f5f\"}},\"annotationdefaults\":{\"arrowcolor\":\"#2a3f5f\",\"arrowhead\":0,\"arrowwidth\":1},\"geo\":{\"bgcolor\":\"white\",\"landcolor\":\"#E5ECF6\",\"subunitcolor\":\"white\",\"showland\":true,\"showlakes\":true,\"lakecolor\":\"white\"},\"title\":{\"x\":0.05},\"mapbox\":{\"style\":\"light\"}}}},                        {\"responsive\": true}                    ).then(function(){\n",
              "                            \n",
              "var gd = document.getElementById('cdb15d43-f282-438d-8b3d-a4a29b934177');\n",
              "var x = new MutationObserver(function (mutations, observer) {{\n",
              "        var display = window.getComputedStyle(gd).display;\n",
              "        if (!display || display === 'none') {{\n",
              "            console.log([gd, 'removed!']);\n",
              "            Plotly.purge(gd);\n",
              "            observer.disconnect();\n",
              "        }}\n",
              "}});\n",
              "\n",
              "// Listen for the removal of the full notebook cells\n",
              "var notebookContainer = gd.closest('#notebook-container');\n",
              "if (notebookContainer) {{\n",
              "    x.observe(notebookContainer, {childList: true});\n",
              "}}\n",
              "\n",
              "// Listen for the clearing of the current output cell\n",
              "var outputEl = gd.closest('.output');\n",
              "if (outputEl) {{\n",
              "    x.observe(outputEl, {childList: true});\n",
              "}}\n",
              "\n",
              "                        })                };                            </script>        </div>\n",
              "</body>\n",
              "</html>"
            ]
          },
          "metadata": {}
        }
      ]
    },
    {
      "cell_type": "code",
      "source": [
        "# Taxas de preços pagos por hóspede e por noite para os tipos mais comuns de hospedagens nos bairros mais comuns\n",
        "rate_com_type = round((median_com_type_guest / median_com_type_night)*100, 2).sort_values(ascending=False)\n",
        "rate_com_type"
      ],
      "metadata": {
        "colab": {
          "base_uri": "https://localhost:8080/"
        },
        "id": "uRhAif7GZubB",
        "outputId": "6e70774d-43fa-4317-bc81-b930fc6d0e55"
      },
      "execution_count": null,
      "outputs": [
        {
          "output_type": "execute_result",
          "data": {
            "text/plain": [
              "Private room in rental unit    53.44\n",
              "Entire loft                    50.00\n",
              "Entire serviced apartment      28.41\n",
              "Entire condo                   23.33\n",
              "Entire rental unit             21.74\n",
              "dtype: float64"
            ]
          },
          "metadata": {},
          "execution_count": 99
        }
      ]
    },
    {
      "cell_type": "markdown",
      "source": [
        "Observa-se que apesar do preço por noite de *Private room in rental unit* ser o menor pelo gráfico acima, a taxa de preço paga por hóspede é maior em relação aos demais tipos. Por outro lado, *Entire rental unit* possui a menor proporção de preço pago por hóspede, pois mesmo tendo o maior valor de preço por noite, possui também um dos menores preços pagos por hóspedes. Esse comportamento pode ter relação com quantidade de hóspedes que cada tipo de hospedagem comporta."
      ],
      "metadata": {
        "id": "m2HUPi1WcDP9"
      }
    },
    {
      "cell_type": "markdown",
      "source": [
        "### Distribuição e média do número de hóspedes por tipos de hospedagens mais comuns para os bairros mais comuns"
      ],
      "metadata": {
        "id": "RgicuNA4m_g_"
      }
    },
    {
      "cell_type": "markdown",
      "source": [
        "Análise"
      ],
      "metadata": {
        "id": "JGZTYQtznbnp"
      }
    },
    {
      "cell_type": "code",
      "source": [
        "# dataframe para o strip plot\n",
        "df_strip = df_rec.loc[df_rec['stand address'].isin(com_address.index) & df_rec['roomType'].isin(com_type.index)].reset_index()\n",
        "\n",
        "# Crie uma lista com as categorias na ordem do plot\n",
        "categories_order = df_strip['roomType'].unique()\n",
        "\n",
        "# Para calcular a média de hóspedes por tipo de hospedagem\n",
        "avg_guest = df_strip.groupby('roomType')['numberOfGuests'].median()\n",
        "\n",
        "# Reindexa os índices para que fiquem os mesmos do plot do strip\n",
        "avg_guest = avg_guest.reindex(categories_order)"
      ],
      "metadata": {
        "id": "9hxs_dJ8na-r"
      },
      "execution_count": null,
      "outputs": []
    },
    {
      "cell_type": "markdown",
      "source": [
        "O código realiza uma análise da distribuição e da média do número de hóspedes para os tipos de hospedagens mais comuns nas localizações mais frequentes em Recife. Através de um strip plot, é possível visualizar como o número de hóspedes varia para cada categoria de quarto. Além disso, o código calcula a média de hóspedes por tipo de hospedagem, fornecendo informações importantes para os viajantes entenderem a capacidade média de cada tipo de acomodação."
      ],
      "metadata": {
        "id": "sastAvQ-8qkp"
      }
    },
    {
      "cell_type": "markdown",
      "source": [
        "Gráfico"
      ],
      "metadata": {
        "id": "COdhI2GMncyD"
      }
    },
    {
      "cell_type": "code",
      "source": [
        "# Cria o strip plot\n",
        "fig = px.strip(df_strip, x='roomType', y='numberOfGuests',\n",
        "               title='Distribuição de preços por noite por quantidade de hóspedes',\n",
        "               template=\"simple_white\", color_discrete_sequence=px.colors.qualitative.Dark2,\n",
        "               stripmode='overlay')  # Contorno dos pontos\n",
        "\n",
        "# Cria um scatter de tendência\n",
        "avg_trace = go.Scatter(\n",
        "    x=avg_guest.index,\n",
        "    y=avg_guest.values,\n",
        "    mode='lines',\n",
        "    name='Média de preço',\n",
        "    line=dict(color='black', width=1.5, dash='dash')\n",
        ")\n",
        "\n",
        "# Adiciona a figura o scatter de tendência\n",
        "fig.add_trace(avg_trace)\n",
        "\n",
        "fig.update_traces(marker=dict(size=10, line=dict(width=0.5, color='black')))\n",
        "\n",
        "fig.update_xaxes(title='Tipo de Hospedagem', titlefont_size=16, tickfont_size=14)\n",
        "fig.update_yaxes(title='Quantidade de Hóspedes', titlefont_size=16, tickfont_size=14)\n",
        "\n",
        "fig.update_layout(title=dict(x=0.5), height=600, width=1200)\n",
        "\n",
        "fig.show()"
      ],
      "metadata": {
        "colab": {
          "base_uri": "https://localhost:8080/",
          "height": 637
        },
        "id": "2-vJRIVDfd6m",
        "outputId": "09e596a2-ac7c-4da3-c47e-264c051aab9e"
      },
      "execution_count": null,
      "outputs": [
        {
          "output_type": "display_data",
          "data": {
            "text/html": [
              "<html>\n",
              "<head><meta charset=\"utf-8\" /></head>\n",
              "<body>\n",
              "    <div>            <script src=\"https://cdnjs.cloudflare.com/ajax/libs/mathjax/2.7.5/MathJax.js?config=TeX-AMS-MML_SVG\"></script><script type=\"text/javascript\">if (window.MathJax && window.MathJax.Hub && window.MathJax.Hub.Config) {window.MathJax.Hub.Config({SVG: {font: \"STIX-Web\"}});}</script>                <script type=\"text/javascript\">window.PlotlyConfig = {MathJaxConfig: 'local'};</script>\n",
              "        <script src=\"https://cdn.plot.ly/plotly-2.18.2.min.js\"></script>                <div id=\"f4a359bd-bac4-4b61-95d1-582ecd7c6eba\" class=\"plotly-graph-div\" style=\"height:600px; width:1200px;\"></div>            <script type=\"text/javascript\">                                    window.PLOTLYENV=window.PLOTLYENV || {};                                    if (document.getElementById(\"f4a359bd-bac4-4b61-95d1-582ecd7c6eba\")) {                    Plotly.newPlot(                        \"f4a359bd-bac4-4b61-95d1-582ecd7c6eba\",                        [{\"alignmentgroup\":\"True\",\"boxpoints\":\"all\",\"fillcolor\":\"rgba(255,255,255,0)\",\"hoveron\":\"points\",\"hovertemplate\":\"roomType=%{x}<br>numberOfGuests=%{y}<extra></extra>\",\"legendgroup\":\"\",\"line\":{\"color\":\"rgba(255,255,255,0)\"},\"marker\":{\"color\":\"rgb(27,158,119)\",\"line\":{\"color\":\"black\",\"width\":0.5},\"size\":10},\"name\":\"\",\"offsetgroup\":\"\",\"orientation\":\"v\",\"pointpos\":0,\"showlegend\":false,\"x\":[\"Entire rental unit\",\"Entire rental unit\",\"Private room in rental unit\",\"Entire rental unit\",\"Entire rental unit\",\"Entire condo\",\"Entire rental unit\",\"Entire rental unit\",\"Entire rental unit\",\"Entire loft\",\"Entire serviced apartment\",\"Entire rental unit\",\"Entire rental unit\",\"Entire serviced apartment\",\"Entire rental unit\",\"Entire rental unit\",\"Entire serviced apartment\",\"Entire serviced apartment\",\"Entire rental unit\",\"Entire rental unit\",\"Entire rental unit\",\"Entire rental unit\",\"Entire rental unit\",\"Entire rental unit\",\"Entire rental unit\",\"Private room in rental unit\",\"Entire loft\",\"Entire rental unit\",\"Entire serviced apartment\",\"Entire serviced apartment\",\"Entire rental unit\",\"Entire rental unit\",\"Entire rental unit\",\"Entire serviced apartment\",\"Entire loft\",\"Entire loft\",\"Entire rental unit\",\"Entire condo\",\"Entire rental unit\",\"Entire rental unit\",\"Entire rental unit\",\"Entire rental unit\",\"Entire condo\",\"Entire condo\",\"Entire rental unit\",\"Entire rental unit\",\"Entire rental unit\",\"Private room in rental unit\",\"Entire rental unit\",\"Entire serviced apartment\",\"Entire rental unit\",\"Entire serviced apartment\",\"Entire serviced apartment\",\"Entire condo\",\"Entire rental unit\",\"Entire rental unit\",\"Entire serviced apartment\",\"Entire serviced apartment\",\"Entire serviced apartment\",\"Private room in rental unit\",\"Entire rental unit\",\"Entire condo\",\"Entire rental unit\",\"Entire rental unit\",\"Entire rental unit\",\"Entire rental unit\",\"Entire serviced apartment\",\"Private room in rental unit\",\"Entire serviced apartment\",\"Entire rental unit\",\"Private room in rental unit\",\"Entire rental unit\",\"Entire serviced apartment\",\"Entire serviced apartment\",\"Entire rental unit\",\"Entire rental unit\",\"Entire rental unit\",\"Private room in rental unit\",\"Private room in rental unit\",\"Entire rental unit\",\"Entire serviced apartment\",\"Entire serviced apartment\",\"Private room in rental unit\",\"Entire serviced apartment\",\"Private room in rental unit\",\"Private room in rental unit\",\"Entire loft\",\"Entire condo\",\"Entire rental unit\",\"Entire rental unit\",\"Private room in rental unit\",\"Private room in rental unit\",\"Entire rental unit\",\"Private room in rental unit\",\"Private room in rental unit\",\"Private room in rental unit\",\"Entire rental unit\",\"Entire rental unit\",\"Entire rental unit\",\"Entire rental unit\",\"Entire rental unit\",\"Entire serviced apartment\",\"Entire rental unit\",\"Entire serviced apartment\",\"Entire serviced apartment\",\"Entire rental unit\",\"Entire condo\",\"Entire rental unit\",\"Entire condo\",\"Entire condo\",\"Entire rental unit\",\"Entire serviced apartment\",\"Entire rental unit\",\"Private room in rental unit\",\"Entire condo\",\"Entire rental unit\",\"Entire serviced apartment\",\"Entire rental unit\",\"Entire condo\",\"Entire serviced apartment\",\"Entire rental unit\",\"Entire condo\",\"Private room in rental unit\",\"Entire condo\",\"Entire rental unit\",\"Entire rental unit\",\"Entire condo\",\"Entire rental unit\",\"Entire condo\",\"Entire rental unit\",\"Entire rental unit\",\"Entire rental unit\",\"Entire rental unit\",\"Entire serviced apartment\",\"Entire serviced apartment\",\"Entire serviced apartment\",\"Private room in rental unit\",\"Entire serviced apartment\",\"Entire condo\",\"Entire rental unit\",\"Entire rental unit\",\"Entire serviced apartment\",\"Entire rental unit\",\"Entire rental unit\",\"Entire rental unit\",\"Private room in rental unit\",\"Private room in rental unit\",\"Entire rental unit\",\"Entire rental unit\",\"Entire rental unit\",\"Entire serviced apartment\",\"Entire rental unit\",\"Entire serviced apartment\"],\"x0\":\" \",\"xaxis\":\"x\",\"y\":[4,4,4,4,4,2,6,4,2,5,4,5,4,7,6,6,3,2,5,4,5,3,4,4,3,2,3,5,4,4,6,6,4,4,2,2,7,9,5,10,6,4,6,8,4,5,2,2,2,4,8,4,4,7,4,9,4,4,4,1,4,6,8,6,8,8,4,2,4,15,1,6,2,4,2,6,4,1,2,6,4,4,2,2,1,2,5,6,4,5,2,1,5,2,3,2,6,5,6,6,10,4,6,4,4,4,4,8,7,2,2,4,4,3,5,4,2,8,5,4,5,5,2,3,4,4,5,4,4,6,6,6,6,2,3,2,1,2,4,4,5,4,6,2,4,2,1,6,4,4,4,15,2],\"y0\":\" \",\"yaxis\":\"y\",\"type\":\"box\"},{\"line\":{\"color\":\"black\",\"dash\":\"dash\",\"width\":1.5},\"mode\":\"lines\",\"name\":\"M\\u00e9dia de pre\\u00e7o\",\"x\":[\"Entire rental unit\",\"Private room in rental unit\",\"Entire condo\",\"Entire loft\",\"Entire serviced apartment\"],\"y\":[5.0,2.0,5.0,3.0,4.0],\"type\":\"scatter\",\"marker\":{\"line\":{\"color\":\"black\",\"width\":0.5},\"size\":10}}],                        {\"template\":{\"data\":{\"barpolar\":[{\"marker\":{\"line\":{\"color\":\"white\",\"width\":0.5},\"pattern\":{\"fillmode\":\"overlay\",\"size\":10,\"solidity\":0.2}},\"type\":\"barpolar\"}],\"bar\":[{\"error_x\":{\"color\":\"rgb(36,36,36)\"},\"error_y\":{\"color\":\"rgb(36,36,36)\"},\"marker\":{\"line\":{\"color\":\"white\",\"width\":0.5},\"pattern\":{\"fillmode\":\"overlay\",\"size\":10,\"solidity\":0.2}},\"type\":\"bar\"}],\"carpet\":[{\"aaxis\":{\"endlinecolor\":\"rgb(36,36,36)\",\"gridcolor\":\"white\",\"linecolor\":\"white\",\"minorgridcolor\":\"white\",\"startlinecolor\":\"rgb(36,36,36)\"},\"baxis\":{\"endlinecolor\":\"rgb(36,36,36)\",\"gridcolor\":\"white\",\"linecolor\":\"white\",\"minorgridcolor\":\"white\",\"startlinecolor\":\"rgb(36,36,36)\"},\"type\":\"carpet\"}],\"choropleth\":[{\"colorbar\":{\"outlinewidth\":1,\"tickcolor\":\"rgb(36,36,36)\",\"ticks\":\"outside\"},\"type\":\"choropleth\"}],\"contourcarpet\":[{\"colorbar\":{\"outlinewidth\":1,\"tickcolor\":\"rgb(36,36,36)\",\"ticks\":\"outside\"},\"type\":\"contourcarpet\"}],\"contour\":[{\"colorbar\":{\"outlinewidth\":1,\"tickcolor\":\"rgb(36,36,36)\",\"ticks\":\"outside\"},\"colorscale\":[[0.0,\"#440154\"],[0.1111111111111111,\"#482878\"],[0.2222222222222222,\"#3e4989\"],[0.3333333333333333,\"#31688e\"],[0.4444444444444444,\"#26828e\"],[0.5555555555555556,\"#1f9e89\"],[0.6666666666666666,\"#35b779\"],[0.7777777777777778,\"#6ece58\"],[0.8888888888888888,\"#b5de2b\"],[1.0,\"#fde725\"]],\"type\":\"contour\"}],\"heatmapgl\":[{\"colorbar\":{\"outlinewidth\":1,\"tickcolor\":\"rgb(36,36,36)\",\"ticks\":\"outside\"},\"colorscale\":[[0.0,\"#440154\"],[0.1111111111111111,\"#482878\"],[0.2222222222222222,\"#3e4989\"],[0.3333333333333333,\"#31688e\"],[0.4444444444444444,\"#26828e\"],[0.5555555555555556,\"#1f9e89\"],[0.6666666666666666,\"#35b779\"],[0.7777777777777778,\"#6ece58\"],[0.8888888888888888,\"#b5de2b\"],[1.0,\"#fde725\"]],\"type\":\"heatmapgl\"}],\"heatmap\":[{\"colorbar\":{\"outlinewidth\":1,\"tickcolor\":\"rgb(36,36,36)\",\"ticks\":\"outside\"},\"colorscale\":[[0.0,\"#440154\"],[0.1111111111111111,\"#482878\"],[0.2222222222222222,\"#3e4989\"],[0.3333333333333333,\"#31688e\"],[0.4444444444444444,\"#26828e\"],[0.5555555555555556,\"#1f9e89\"],[0.6666666666666666,\"#35b779\"],[0.7777777777777778,\"#6ece58\"],[0.8888888888888888,\"#b5de2b\"],[1.0,\"#fde725\"]],\"type\":\"heatmap\"}],\"histogram2dcontour\":[{\"colorbar\":{\"outlinewidth\":1,\"tickcolor\":\"rgb(36,36,36)\",\"ticks\":\"outside\"},\"colorscale\":[[0.0,\"#440154\"],[0.1111111111111111,\"#482878\"],[0.2222222222222222,\"#3e4989\"],[0.3333333333333333,\"#31688e\"],[0.4444444444444444,\"#26828e\"],[0.5555555555555556,\"#1f9e89\"],[0.6666666666666666,\"#35b779\"],[0.7777777777777778,\"#6ece58\"],[0.8888888888888888,\"#b5de2b\"],[1.0,\"#fde725\"]],\"type\":\"histogram2dcontour\"}],\"histogram2d\":[{\"colorbar\":{\"outlinewidth\":1,\"tickcolor\":\"rgb(36,36,36)\",\"ticks\":\"outside\"},\"colorscale\":[[0.0,\"#440154\"],[0.1111111111111111,\"#482878\"],[0.2222222222222222,\"#3e4989\"],[0.3333333333333333,\"#31688e\"],[0.4444444444444444,\"#26828e\"],[0.5555555555555556,\"#1f9e89\"],[0.6666666666666666,\"#35b779\"],[0.7777777777777778,\"#6ece58\"],[0.8888888888888888,\"#b5de2b\"],[1.0,\"#fde725\"]],\"type\":\"histogram2d\"}],\"histogram\":[{\"marker\":{\"line\":{\"color\":\"white\",\"width\":0.6}},\"type\":\"histogram\"}],\"mesh3d\":[{\"colorbar\":{\"outlinewidth\":1,\"tickcolor\":\"rgb(36,36,36)\",\"ticks\":\"outside\"},\"type\":\"mesh3d\"}],\"parcoords\":[{\"line\":{\"colorbar\":{\"outlinewidth\":1,\"tickcolor\":\"rgb(36,36,36)\",\"ticks\":\"outside\"}},\"type\":\"parcoords\"}],\"pie\":[{\"automargin\":true,\"type\":\"pie\"}],\"scatter3d\":[{\"line\":{\"colorbar\":{\"outlinewidth\":1,\"tickcolor\":\"rgb(36,36,36)\",\"ticks\":\"outside\"}},\"marker\":{\"colorbar\":{\"outlinewidth\":1,\"tickcolor\":\"rgb(36,36,36)\",\"ticks\":\"outside\"}},\"type\":\"scatter3d\"}],\"scattercarpet\":[{\"marker\":{\"colorbar\":{\"outlinewidth\":1,\"tickcolor\":\"rgb(36,36,36)\",\"ticks\":\"outside\"}},\"type\":\"scattercarpet\"}],\"scattergeo\":[{\"marker\":{\"colorbar\":{\"outlinewidth\":1,\"tickcolor\":\"rgb(36,36,36)\",\"ticks\":\"outside\"}},\"type\":\"scattergeo\"}],\"scattergl\":[{\"marker\":{\"colorbar\":{\"outlinewidth\":1,\"tickcolor\":\"rgb(36,36,36)\",\"ticks\":\"outside\"}},\"type\":\"scattergl\"}],\"scattermapbox\":[{\"marker\":{\"colorbar\":{\"outlinewidth\":1,\"tickcolor\":\"rgb(36,36,36)\",\"ticks\":\"outside\"}},\"type\":\"scattermapbox\"}],\"scatterpolargl\":[{\"marker\":{\"colorbar\":{\"outlinewidth\":1,\"tickcolor\":\"rgb(36,36,36)\",\"ticks\":\"outside\"}},\"type\":\"scatterpolargl\"}],\"scatterpolar\":[{\"marker\":{\"colorbar\":{\"outlinewidth\":1,\"tickcolor\":\"rgb(36,36,36)\",\"ticks\":\"outside\"}},\"type\":\"scatterpolar\"}],\"scatter\":[{\"fillpattern\":{\"fillmode\":\"overlay\",\"size\":10,\"solidity\":0.2},\"type\":\"scatter\"}],\"scatterternary\":[{\"marker\":{\"colorbar\":{\"outlinewidth\":1,\"tickcolor\":\"rgb(36,36,36)\",\"ticks\":\"outside\"}},\"type\":\"scatterternary\"}],\"surface\":[{\"colorbar\":{\"outlinewidth\":1,\"tickcolor\":\"rgb(36,36,36)\",\"ticks\":\"outside\"},\"colorscale\":[[0.0,\"#440154\"],[0.1111111111111111,\"#482878\"],[0.2222222222222222,\"#3e4989\"],[0.3333333333333333,\"#31688e\"],[0.4444444444444444,\"#26828e\"],[0.5555555555555556,\"#1f9e89\"],[0.6666666666666666,\"#35b779\"],[0.7777777777777778,\"#6ece58\"],[0.8888888888888888,\"#b5de2b\"],[1.0,\"#fde725\"]],\"type\":\"surface\"}],\"table\":[{\"cells\":{\"fill\":{\"color\":\"rgb(237,237,237)\"},\"line\":{\"color\":\"white\"}},\"header\":{\"fill\":{\"color\":\"rgb(217,217,217)\"},\"line\":{\"color\":\"white\"}},\"type\":\"table\"}]},\"layout\":{\"annotationdefaults\":{\"arrowhead\":0,\"arrowwidth\":1},\"autotypenumbers\":\"strict\",\"coloraxis\":{\"colorbar\":{\"outlinewidth\":1,\"tickcolor\":\"rgb(36,36,36)\",\"ticks\":\"outside\"}},\"colorscale\":{\"diverging\":[[0.0,\"rgb(103,0,31)\"],[0.1,\"rgb(178,24,43)\"],[0.2,\"rgb(214,96,77)\"],[0.3,\"rgb(244,165,130)\"],[0.4,\"rgb(253,219,199)\"],[0.5,\"rgb(247,247,247)\"],[0.6,\"rgb(209,229,240)\"],[0.7,\"rgb(146,197,222)\"],[0.8,\"rgb(67,147,195)\"],[0.9,\"rgb(33,102,172)\"],[1.0,\"rgb(5,48,97)\"]],\"sequential\":[[0.0,\"#440154\"],[0.1111111111111111,\"#482878\"],[0.2222222222222222,\"#3e4989\"],[0.3333333333333333,\"#31688e\"],[0.4444444444444444,\"#26828e\"],[0.5555555555555556,\"#1f9e89\"],[0.6666666666666666,\"#35b779\"],[0.7777777777777778,\"#6ece58\"],[0.8888888888888888,\"#b5de2b\"],[1.0,\"#fde725\"]],\"sequentialminus\":[[0.0,\"#440154\"],[0.1111111111111111,\"#482878\"],[0.2222222222222222,\"#3e4989\"],[0.3333333333333333,\"#31688e\"],[0.4444444444444444,\"#26828e\"],[0.5555555555555556,\"#1f9e89\"],[0.6666666666666666,\"#35b779\"],[0.7777777777777778,\"#6ece58\"],[0.8888888888888888,\"#b5de2b\"],[1.0,\"#fde725\"]]},\"colorway\":[\"#1F77B4\",\"#FF7F0E\",\"#2CA02C\",\"#D62728\",\"#9467BD\",\"#8C564B\",\"#E377C2\",\"#7F7F7F\",\"#BCBD22\",\"#17BECF\"],\"font\":{\"color\":\"rgb(36,36,36)\"},\"geo\":{\"bgcolor\":\"white\",\"lakecolor\":\"white\",\"landcolor\":\"white\",\"showlakes\":true,\"showland\":true,\"subunitcolor\":\"white\"},\"hoverlabel\":{\"align\":\"left\"},\"hovermode\":\"closest\",\"mapbox\":{\"style\":\"light\"},\"paper_bgcolor\":\"white\",\"plot_bgcolor\":\"white\",\"polar\":{\"angularaxis\":{\"gridcolor\":\"rgb(232,232,232)\",\"linecolor\":\"rgb(36,36,36)\",\"showgrid\":false,\"showline\":true,\"ticks\":\"outside\"},\"bgcolor\":\"white\",\"radialaxis\":{\"gridcolor\":\"rgb(232,232,232)\",\"linecolor\":\"rgb(36,36,36)\",\"showgrid\":false,\"showline\":true,\"ticks\":\"outside\"}},\"scene\":{\"xaxis\":{\"backgroundcolor\":\"white\",\"gridcolor\":\"rgb(232,232,232)\",\"gridwidth\":2,\"linecolor\":\"rgb(36,36,36)\",\"showbackground\":true,\"showgrid\":false,\"showline\":true,\"ticks\":\"outside\",\"zeroline\":false,\"zerolinecolor\":\"rgb(36,36,36)\"},\"yaxis\":{\"backgroundcolor\":\"white\",\"gridcolor\":\"rgb(232,232,232)\",\"gridwidth\":2,\"linecolor\":\"rgb(36,36,36)\",\"showbackground\":true,\"showgrid\":false,\"showline\":true,\"ticks\":\"outside\",\"zeroline\":false,\"zerolinecolor\":\"rgb(36,36,36)\"},\"zaxis\":{\"backgroundcolor\":\"white\",\"gridcolor\":\"rgb(232,232,232)\",\"gridwidth\":2,\"linecolor\":\"rgb(36,36,36)\",\"showbackground\":true,\"showgrid\":false,\"showline\":true,\"ticks\":\"outside\",\"zeroline\":false,\"zerolinecolor\":\"rgb(36,36,36)\"}},\"shapedefaults\":{\"fillcolor\":\"black\",\"line\":{\"width\":0},\"opacity\":0.3},\"ternary\":{\"aaxis\":{\"gridcolor\":\"rgb(232,232,232)\",\"linecolor\":\"rgb(36,36,36)\",\"showgrid\":false,\"showline\":true,\"ticks\":\"outside\"},\"baxis\":{\"gridcolor\":\"rgb(232,232,232)\",\"linecolor\":\"rgb(36,36,36)\",\"showgrid\":false,\"showline\":true,\"ticks\":\"outside\"},\"bgcolor\":\"white\",\"caxis\":{\"gridcolor\":\"rgb(232,232,232)\",\"linecolor\":\"rgb(36,36,36)\",\"showgrid\":false,\"showline\":true,\"ticks\":\"outside\"}},\"title\":{\"x\":0.05},\"xaxis\":{\"automargin\":true,\"gridcolor\":\"rgb(232,232,232)\",\"linecolor\":\"rgb(36,36,36)\",\"showgrid\":false,\"showline\":true,\"ticks\":\"outside\",\"title\":{\"standoff\":15},\"zeroline\":false,\"zerolinecolor\":\"rgb(36,36,36)\"},\"yaxis\":{\"automargin\":true,\"gridcolor\":\"rgb(232,232,232)\",\"linecolor\":\"rgb(36,36,36)\",\"showgrid\":false,\"showline\":true,\"ticks\":\"outside\",\"title\":{\"standoff\":15},\"zeroline\":false,\"zerolinecolor\":\"rgb(36,36,36)\"}}},\"xaxis\":{\"anchor\":\"y\",\"domain\":[0.0,1.0],\"title\":{\"text\":\"Tipo de Hospedagem\",\"font\":{\"size\":16}},\"tickfont\":{\"size\":14}},\"yaxis\":{\"anchor\":\"x\",\"domain\":[0.0,1.0],\"title\":{\"text\":\"Quantidade de H\\u00f3spedes\",\"font\":{\"size\":16}},\"tickfont\":{\"size\":14}},\"legend\":{\"tracegroupgap\":0},\"title\":{\"text\":\"Distribui\\u00e7\\u00e3o de pre\\u00e7os por noite por quantidade de h\\u00f3spedes\",\"x\":0.5},\"boxmode\":\"overlay\",\"height\":600,\"width\":1200},                        {\"responsive\": true}                    ).then(function(){\n",
              "                            \n",
              "var gd = document.getElementById('f4a359bd-bac4-4b61-95d1-582ecd7c6eba');\n",
              "var x = new MutationObserver(function (mutations, observer) {{\n",
              "        var display = window.getComputedStyle(gd).display;\n",
              "        if (!display || display === 'none') {{\n",
              "            console.log([gd, 'removed!']);\n",
              "            Plotly.purge(gd);\n",
              "            observer.disconnect();\n",
              "        }}\n",
              "}});\n",
              "\n",
              "// Listen for the removal of the full notebook cells\n",
              "var notebookContainer = gd.closest('#notebook-container');\n",
              "if (notebookContainer) {{\n",
              "    x.observe(notebookContainer, {childList: true});\n",
              "}}\n",
              "\n",
              "// Listen for the clearing of the current output cell\n",
              "var outputEl = gd.closest('.output');\n",
              "if (outputEl) {{\n",
              "    x.observe(outputEl, {childList: true});\n",
              "}}\n",
              "\n",
              "                        })                };                            </script>        </div>\n",
              "</body>\n",
              "</html>"
            ]
          },
          "metadata": {}
        }
      ]
    },
    {
      "cell_type": "code",
      "source": [
        "avg_guest.sort_values(ascending=False)"
      ],
      "metadata": {
        "colab": {
          "base_uri": "https://localhost:8080/"
        },
        "id": "C6hymoSIlCPt",
        "outputId": "6f3cb647-f304-496b-c977-83ba79779f3e"
      },
      "execution_count": null,
      "outputs": [
        {
          "output_type": "execute_result",
          "data": {
            "text/plain": [
              "roomType\n",
              "Entire rental unit             5.0\n",
              "Entire condo                   5.0\n",
              "Entire serviced apartment      4.0\n",
              "Entire loft                    3.0\n",
              "Private room in rental unit    2.0\n",
              "Name: numberOfGuests, dtype: float64"
            ]
          },
          "metadata": {},
          "execution_count": 128
        }
      ]
    },
    {
      "cell_type": "markdown",
      "source": [
        "Tomando o gráfico anterior de preços por noite e por hóspedes para os tipos de hospedagens, observa-se que *Entire rental unit* possui uma média de hóspedes maior em relação a *Private room in rental unit*, obviamente e também uma maior distribuição para a quantidade de hóspedes. Por isso, os preços são afetados por essas quantidades, fazendo com que *Entire rental unit*, por exemplo, tenha uma menor taxa de preço pago por hóspede para cada noite em relação a *Private room in rental unit*."
      ],
      "metadata": {
        "id": "aqLluhnuoaQd"
      }
    }
  ]
}